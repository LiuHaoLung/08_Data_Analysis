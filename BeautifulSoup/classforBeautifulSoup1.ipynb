{
 "cells": [
  {
   "cell_type": "code",
   "execution_count": 1,
   "metadata": {},
   "outputs": [],
   "source": [
    "import requests\n",
    "\n",
    "from bs4 import BeautifulSoup"
   ]
  },
  {
   "cell_type": "code",
   "execution_count": 2,
   "metadata": {},
   "outputs": [],
   "source": [
    "webpage = requests.get('https://www.webscraper.io/test-sites/e-commerce/static')"
   ]
  },
  {
   "cell_type": "markdown",
   "metadata": {},
   "source": [
    "抓取網頁，將網頁丟給變數 webpage"
   ]
  },
  {
   "cell_type": "code",
   "execution_count": 3,
   "metadata": {
    "scrolled": true
   },
   "outputs": [
    {
     "data": {
      "text/plain": [
       "requests.models.Response"
      ]
     },
     "execution_count": 3,
     "metadata": {},
     "output_type": "execute_result"
    }
   ],
   "source": [
    "type(webpage)"
   ]
  },
  {
   "cell_type": "code",
   "execution_count": 4,
   "metadata": {},
   "outputs": [],
   "source": [
    "text = webpage.text"
   ]
  },
  {
   "cell_type": "markdown",
   "metadata": {},
   "source": [
    "抓取網頁的內容，將內容丟給變數 text"
   ]
  },
  {
   "cell_type": "code",
   "execution_count": 5,
   "metadata": {},
   "outputs": [
    {
     "data": {
      "text/plain": [
       "str"
      ]
     },
     "execution_count": 5,
     "metadata": {},
     "output_type": "execute_result"
    }
   ],
   "source": [
    "type(text)"
   ]
  },
  {
   "cell_type": "code",
   "execution_count": 6,
   "metadata": {
    "scrolled": false
   },
   "outputs": [
    {
     "data": {
      "text/plain": [
       "'<!DOCTYPE html>\\n<html>\\n<head>\\n\\n\\t\\t\\t<!-- Anti-flicker snippet (recommended)  -->\\n<style>.async-hide { opacity: 0 !important} </style>\\n<script>(function(a,s,y,n,c,h,i,d,e){s.className+=\\' \\'+y;h.start=1*new Date;\\nh.end=i=function(){s.className=s.className.replace(RegExp(\\' ?\\'+y),\\'\\')};\\n(a[n]=a[n]||[]).hide=h;setTimeout(function(){i();h.end=null},c);h.timeout=c;\\n})(window,document.documentElement,\\'async-hide\\',\\'dataLayer\\',4000,\\n{\\'GTM-NVFPDWB\\':true});</script>\\n\\t\\n    <!-- Google Tag Manager -->\\n<script>(function(w,d,s,l,i){w[l]=w[l]||[];w[l].push({\\'gtm.start\\':\\n\\t\\t\\tnew Date().getTime(),event:\\'gtm.js\\'});var f=d.getElementsByTagName(s)[0],\\n\\t\\tj=d.createElement(s),dl=l!=\\'dataLayer\\'?\\'&l=\\'+l:\\'\\';j.async=true;j.src=\\n\\t\\t\\'https://www.googletagmanager.com/gtm.js?id=\\'+i+dl;f.parentNode.insertBefore(j,f);\\n\\t})(window,document,\\'script\\',\\'dataLayer\\',\\'GTM-NVFPDWB\\');</script>\\n<!-- End Google Tag Manager -->    <title>Web Scraper Test Sites</title>\\n    <meta charset=\"utf-8\">\\n    <meta http-equiv=\"X-UA-Compatible\" content=\"IE=edge,chrome=1\">\\n\\n    <meta name=\"keywords\" content=\"web scraping,Web Scraper,Chrome extension,Crawling,Cross platform scraper, \"/>\\n    <meta name=\"description\" content=\"The most popular web scraping extension. Start scraping in minutes. Automate your tasks with our Cloud Scraper. No software to download, no coding needed.\"/>\\n    <link rel=\"icon\" sizes=\"128x128\" href=\"/favicon.png\">\\n\\n    <meta name=\"viewport\" content=\"width=device-width, initial-scale=1.0\">\\n\\t\\n    <link rel=\"stylesheet\" href=\"/css/app.css?id=03c8e2eed5cb0458c20d\">\\n\\n\\t    <script defer src=\"/js/app.js?id=7596f414d529dc9c1cbb\"></script>\\n\\n\\t\\n</head>\\n<body>\\n<!-- Google Tag Manager (noscript) -->\\n<noscript><iframe src=\"https://www.googletagmanager.com/ns.html?id=GTM-NVFPDWB\"\\n\\t\\t\\t\\t  height=\"0\" width=\"0\" style=\"display:none;visibility:hidden\"></iframe></noscript>\\n<!-- End Google Tag Manager (noscript) --><header role=\"banner\" class=\"navbar navbar-fixed-top navbar-static\">\\n    <div class=\"container\">\\n\\n        <div class=\"navbar-header\">\\n\\n            <a data-toggle=\"collapse-side\"  data-target=\".side-collapse\" data-target-2=\".side-collapse-container\">\\n                <button type=\"button\"  class=\"navbar-toggle pull-right collapsed\" data-toggle=\"collapse\" data-target=\"#navbar\"  data-target-2=\".side-collapse-container\" data-target-3=\".side-collapse\" aria-expanded=\"false\" aria-controls=\"navbar\">\\n\\n                    <span class=\"sr-only\">Toggle navigation</span>\\n                    <span class=\"icon-bar top-bar\"></span>\\n                    <span class=\"icon-bar middle-bar\"></span>\\n                    <span class=\"icon-bar bottom-bar\"></span>\\n\\n                </button>\\n            </a>\\n            <div class=\"navbar-brand\"><a href=\"/\"><img src=\"/img/logo_white.svg\" alt=\"\"></a></div>\\n        </div>\\n\\n        <div class=\"side-collapse in\">\\n            <nav id=\"navbar\"  role=\"navigation\" class=\"navbar-collapse collapse\">\\n                <ul class=\"nav navbar-nav navbar-right\">\\n                    <li class=\"hidden\">\\n                        <a href=\"#page-top\"></a>\\n                    </li>\\n                    \\n                        \\n                        \\n                            \\n                            \\n                        \\n                    \\n                    <li>\\n                        <a href=\"/\" class=\"menuitm\"><p>Web Scraper</p><div class=\"crta\"></div></a>\\n                    </li>\\n                    <li>\\n                        <a href=\"/cloud-scraper\" class=\"menuitm\"><p>Cloud Scraper</p><div class=\"crta\"></div></a>\\n                    </li>\\n                    <li>\\n                        <a href=\"/data-specialist\" class=\"menuitm\"><p>Order Data</p><div class=\"crta\"></div></a>\\n                    </li>\\n\\n                    \\n                        \\n                    \\n                    \\n                        \\n                    \\n\\n\\n\\n                    <li class=\"dropdown\">\\n                        <a href=\"#section3\" class=\"menuitm dropdown-toggle\" data-toggle=\"dropdown\"><p>Learn</p><div class=\"crta\"></div></a>\\n                        <ul class=\"dropdown-menu\">\\n                            <li><a href=\"/documentation\">Documentation</a></li>\\n                            <li><a href=\"/tutorials\">Video Tutorials</a></li>\\n                            <li><a href=\"/test-sites\">Test Sites</a></li>\\n                            <li><a href=\"https://forum.webscraper.io/\" target=\"_blank\">Forum</a></li>\\n                        </ul>\\n                    </li>\\n                    <li>\\n                        <a target=\"_blank\" href=\"https://chrome.google.com/webstore/detail/web-scraper/jnhgnonknehpejjnehehllkliplmbmhn?hl=en\" class=\"btn-menu1 install-extension\">Install</a>\\n                    </li>\\n                    <li>\\n                        <a href=\"https://cloud.webscraper.io/\" class=\"btn-menu2\">Login</a>\\n                    </li>\\n                </ul>\\n            </nav>\\n        </div>\\n    </div>\\n</header>\\n\\n<div class=\"wrapper\">\\n    \\t<div class=\"formenu-here container-fluid\">\\n\\n\\t</div>\\n\\t<div class=\"container-fluid blog-hero\">\\n\\t\\t<div class=\"container\">\\n\\t\\t\\t<div class=\"row\">\\n\\t\\t\\t\\t<div class=\"col-md-12\">\\n\\t\\t\\t\\t\\t<h1>Test Sites</h1>\\n\\t\\t\\t\\t</div>\\n\\t\\t\\t</div>\\n\\t\\t</div>\\n\\t</div>\\n\\n\\t<div class=\"container test-site\">\\n\\t\\t<div class=\"row\">\\n\\t\\t\\t<div class=\"col-md-3 sidebar\">\\n\\t\\t\\t\\t\\t<div class=\"navbar-default sidebar\" role=\"navigation\">\\n\\t<div class=\"sidebar-nav navbar-collapse\">\\n\\t\\t<ul class=\"nav\" id=\"side-menu\">\\n\\n\\t\\t\\t<li class=\"active\">\\n\\t\\t\\t\\t<a href=\"/test-sites/e-commerce/static\">Home</a>\\n\\t\\t\\t</li>\\n\\n\\t\\t\\t\\t\\t\\t\\t<li >\\n\\t\\t\\t\\t\\t<a href=\"/test-sites/e-commerce/static/computers\" class=\"category-link \">\\n\\t\\t\\t\\t\\t\\tComputers<span class=\"fa arrow\"></span>\\n\\t\\t\\t\\t\\t</a>\\n\\n\\t\\t\\t\\t\\t\\t\\t\\t\\t</li>\\n\\t\\t\\t\\t\\t\\t\\t<li >\\n\\t\\t\\t\\t\\t<a href=\"/test-sites/e-commerce/static/phones\" class=\"category-link \">\\n\\t\\t\\t\\t\\t\\tPhones<span class=\"fa arrow\"></span>\\n\\t\\t\\t\\t\\t</a>\\n\\n\\t\\t\\t\\t\\t\\t\\t\\t\\t</li>\\n\\t\\t\\t\\t\\t</ul>\\n\\t</div>\\n</div>\\n\\t\\t\\t</div>\\n\\t\\t\\t<div class=\"col-md-9\">\\n\\t\\t\\t\\t\\n<div class=\"jumbotron\">\\n\\t<h1>E-commerce training site</h1>\\n\\t<p>\\n\\t\\tWelcome to WebScraper e-commerce site. You can use this site for training\\n\\t\\tto learn how to use the Web Scraper. Items listed here are not for sale.\\n\\t</p>\\n</div>\\n\\n<h2>Top items being scraped right now</h2>\\n\\n<div class=\"row\">\\n\\t\\t\\t<div class=\"col-sm-4 col-lg-4 col-md-4\">\\n\\t<div class=\"thumbnail\">\\n\\t\\t<img class=\"img-responsive\" alt=\"item\"\\n\\t\\t\\t src=\"/images/test-sites/e-commerce/items/cart2.png\">\\n\\t\\t<div class=\"caption\">\\n\\t\\t\\t<h4 class=\"pull-right price\">$809.00</h4>\\n\\t\\t\\t<h4>\\n\\t\\t\\t\\t\\t\\t\\t\\t\\t<a href=\"/test-sites/e-commerce/static/product/243\" class=\"title\" title=\"Acer Nitro 5 AN515-51\">Acer Nitro 5 AN5...</a>\\n\\t\\t\\t\\t\\t\\t\\t</h4>\\n\\t\\t\\t<p class=\"description\">Acer Nitro 5 AN515-51, 15.6&quot; FHD IPS, Core i5-7300HQ, 8GB, 1TB, GeForce GTX 1050 2GB, Windows 10 Home</p>\\n\\n\\t\\t</div>\\n\\t\\t<div class=\"ratings\">\\n\\t\\t\\t<p class=\"pull-right\">0 reviews</p>\\n\\t\\t\\t<p data-rating=\"1\">\\n\\t\\t\\t\\t\\t\\t\\t\\t<span class=\"glyphicon glyphicon-star\"></span>\\n\\t\\t\\t\\t\\t\\t\\t</p>\\n\\t\\t</div>\\n\\t</div>\\n</div>\\t\\t\\t<div class=\"col-sm-4 col-lg-4 col-md-4\">\\n\\t<div class=\"thumbnail\">\\n\\t\\t<img class=\"img-responsive\" alt=\"item\"\\n\\t\\t\\t src=\"/images/test-sites/e-commerce/items/cart2.png\">\\n\\t\\t<div class=\"caption\">\\n\\t\\t\\t<h4 class=\"pull-right price\">$1260.13</h4>\\n\\t\\t\\t<h4>\\n\\t\\t\\t\\t\\t\\t\\t\\t\\t<a href=\"/test-sites/e-commerce/static/product/322\" class=\"title\" title=\"Apple MacBook Air 13&quot;\">Apple MacBook Ai...</a>\\n\\t\\t\\t\\t\\t\\t\\t</h4>\\n\\t\\t\\t<p class=\"description\">Apple MacBook Air 13&quot;, i5 1.8GHz, 8GB, 256GB SSD, Intel HD 6000, ENG</p>\\n\\n\\t\\t</div>\\n\\t\\t<div class=\"ratings\">\\n\\t\\t\\t<p class=\"pull-right\">8 reviews</p>\\n\\t\\t\\t<p data-rating=\"4\">\\n\\t\\t\\t\\t\\t\\t\\t\\t<span class=\"glyphicon glyphicon-star\"></span>\\n\\t\\t\\t\\t\\t\\t\\t\\t<span class=\"glyphicon glyphicon-star\"></span>\\n\\t\\t\\t\\t\\t\\t\\t\\t<span class=\"glyphicon glyphicon-star\"></span>\\n\\t\\t\\t\\t\\t\\t\\t\\t<span class=\"glyphicon glyphicon-star\"></span>\\n\\t\\t\\t\\t\\t\\t\\t</p>\\n\\t\\t</div>\\n\\t</div>\\n</div>\\t\\t\\t<div class=\"col-sm-4 col-lg-4 col-md-4\">\\n\\t<div class=\"thumbnail\">\\n\\t\\t<img class=\"img-responsive\" alt=\"item\"\\n\\t\\t\\t src=\"/images/test-sites/e-commerce/items/cart2.png\">\\n\\t\\t<div class=\"caption\">\\n\\t\\t\\t<h4 class=\"pull-right price\">$1102.66</h4>\\n\\t\\t\\t<h4>\\n\\t\\t\\t\\t\\t\\t\\t\\t\\t<a href=\"/test-sites/e-commerce/static/product/290\" class=\"title\" title=\"Dell Latitude 5280\">Dell Latitude 52...</a>\\n\\t\\t\\t\\t\\t\\t\\t</h4>\\n\\t\\t\\t<p class=\"description\">Dell Latitude 5280, 12.5&quot; HD, Core i5-7300U, 8GB, 256GB SSD, Windows 10 Pro</p>\\n\\n\\t\\t</div>\\n\\t\\t<div class=\"ratings\">\\n\\t\\t\\t<p class=\"pull-right\">8 reviews</p>\\n\\t\\t\\t<p data-rating=\"1\">\\n\\t\\t\\t\\t\\t\\t\\t\\t<span class=\"glyphicon glyphicon-star\"></span>\\n\\t\\t\\t\\t\\t\\t\\t</p>\\n\\t\\t</div>\\n\\t</div>\\n</div>\\t</div>\\n\\n\\n\\t\\t\\t</div>\\n\\t\\t</div>\\n\\t</div>\\n    <div class=\"clearfix\"></div>\\n    <div class=\"push\"></div>\\n</div>\\n\\n<div class=\"container-fluid footer\" id=\"layout-footer\">\\n    <div class=\"container\">\\n        <div class=\"row\">\\n            <div class=\"col-md-3\">\\n                <ul>\\n                    <li><h1>Products</h1></li>\\n                    <li><a href=\"/\">Web Scraper browser extension</a></li>\\n                    <li><a href=\"/pricing\">Cloud Web Scraper</a></li>\\n                    <li><a href=\"/data-specialist\">Custom Project</a></li>\\n\\n                    \\n                </ul>\\n            </div>\\n            <div class=\"col-md-3\">\\n                <ul>\\n                    <li><h1>Company</h1></li>\\n                    \\n                    <li><a href=\"/contact\">Contact</a></li>\\n                    \\n                    <li><a href=\"/privacy-policy\">Privacy Policy</a></li>\\n                    \\n\\t\\t\\t\\t\\t<li><a href=\"/jobs\">Jobs</a></li>\\n                </ul>\\n            </div>\\n            <div class=\"col-md-3\">\\n                <ul>\\n                    <li><h1>Resources</h1></li>\\n                    <li><a href=\"/blog\">Blog</a></li>\\n                    <li><a href=\"/documentation\">Documentation</a></li>\\n                    <li><a href=\"/tutorials\">Video Tutorials</a></li>\\n                    <li><a href=\"/screenshots\">Screenshots</a></li>\\n                    <li><a href=\"/test-sites\">Test Sites</a></li>\\n                    <li><a target=\"_blank\" href=\"https://forum.webscraper.io/\">Forum</a></li>\\n                </ul>\\n            </div>\\n            <div class=\"col-md-3\">\\n                <ul>\\n                    <li><h1>CONTACT US</h1></li>\\n                    <li><a href=\"mailto:info@webscraper.io\">info@webscraper.io</a></li>\\n                    \\n                    <li>Sporta street 2,<br> Riga, Latvia, LV-1013</li>\\n                </ul>\\n                <ul class=\"smedia\">\\n                    <li><a href=\"https://www.facebook.com/webscraperio/\" target=\"_blank\"><img src=\"/img/fbicon.png\" alt=\"\"></a></li>\\n                    <li><a href=\"https://twitter.com/webscraperio\" target=\"_blank\"><img src=\"/img/twicon.png\" alt=\"\"></a></li>\\n                    \\n\\n                </ul>\\n            </div>\\n        </div>\\n        <div class=\"row\">\\n            <div class=\"col-md-12\">\\n                <h2>Copyright &copy 2019 <a href=\"#\">Web Scraper</a> | All rights reserved | Made by zoom59</h2>\\n            </div>\\n        </div>\\n    </div>\\n</div>\\n\\n\\n</body>\\n</html>\\n'"
      ]
     },
     "execution_count": 6,
     "metadata": {},
     "output_type": "execute_result"
    }
   ],
   "source": [
    "text"
   ]
  },
  {
   "cell_type": "code",
   "execution_count": 7,
   "metadata": {},
   "outputs": [],
   "source": [
    "content = webpage.content"
   ]
  },
  {
   "cell_type": "code",
   "execution_count": 8,
   "metadata": {},
   "outputs": [
    {
     "data": {
      "text/plain": [
       "bytes"
      ]
     },
     "execution_count": 8,
     "metadata": {},
     "output_type": "execute_result"
    }
   ],
   "source": [
    "type(content)"
   ]
  },
  {
   "cell_type": "code",
   "execution_count": 9,
   "metadata": {
    "scrolled": false
   },
   "outputs": [
    {
     "data": {
      "text/plain": [
       "b'<!DOCTYPE html>\\n<html>\\n<head>\\n\\n\\t\\t\\t<!-- Anti-flicker snippet (recommended)  -->\\n<style>.async-hide { opacity: 0 !important} </style>\\n<script>(function(a,s,y,n,c,h,i,d,e){s.className+=\\' \\'+y;h.start=1*new Date;\\nh.end=i=function(){s.className=s.className.replace(RegExp(\\' ?\\'+y),\\'\\')};\\n(a[n]=a[n]||[]).hide=h;setTimeout(function(){i();h.end=null},c);h.timeout=c;\\n})(window,document.documentElement,\\'async-hide\\',\\'dataLayer\\',4000,\\n{\\'GTM-NVFPDWB\\':true});</script>\\n\\t\\n    <!-- Google Tag Manager -->\\n<script>(function(w,d,s,l,i){w[l]=w[l]||[];w[l].push({\\'gtm.start\\':\\n\\t\\t\\tnew Date().getTime(),event:\\'gtm.js\\'});var f=d.getElementsByTagName(s)[0],\\n\\t\\tj=d.createElement(s),dl=l!=\\'dataLayer\\'?\\'&l=\\'+l:\\'\\';j.async=true;j.src=\\n\\t\\t\\'https://www.googletagmanager.com/gtm.js?id=\\'+i+dl;f.parentNode.insertBefore(j,f);\\n\\t})(window,document,\\'script\\',\\'dataLayer\\',\\'GTM-NVFPDWB\\');</script>\\n<!-- End Google Tag Manager -->    <title>Web Scraper Test Sites</title>\\n    <meta charset=\"utf-8\">\\n    <meta http-equiv=\"X-UA-Compatible\" content=\"IE=edge,chrome=1\">\\n\\n    <meta name=\"keywords\" content=\"web scraping,Web Scraper,Chrome extension,Crawling,Cross platform scraper, \"/>\\n    <meta name=\"description\" content=\"The most popular web scraping extension. Start scraping in minutes. Automate your tasks with our Cloud Scraper. No software to download, no coding needed.\"/>\\n    <link rel=\"icon\" sizes=\"128x128\" href=\"/favicon.png\">\\n\\n    <meta name=\"viewport\" content=\"width=device-width, initial-scale=1.0\">\\n\\t\\n    <link rel=\"stylesheet\" href=\"/css/app.css?id=03c8e2eed5cb0458c20d\">\\n\\n\\t    <script defer src=\"/js/app.js?id=7596f414d529dc9c1cbb\"></script>\\n\\n\\t\\n</head>\\n<body>\\n<!-- Google Tag Manager (noscript) -->\\n<noscript><iframe src=\"https://www.googletagmanager.com/ns.html?id=GTM-NVFPDWB\"\\n\\t\\t\\t\\t  height=\"0\" width=\"0\" style=\"display:none;visibility:hidden\"></iframe></noscript>\\n<!-- End Google Tag Manager (noscript) --><header role=\"banner\" class=\"navbar navbar-fixed-top navbar-static\">\\n    <div class=\"container\">\\n\\n        <div class=\"navbar-header\">\\n\\n            <a data-toggle=\"collapse-side\"  data-target=\".side-collapse\" data-target-2=\".side-collapse-container\">\\n                <button type=\"button\"  class=\"navbar-toggle pull-right collapsed\" data-toggle=\"collapse\" data-target=\"#navbar\"  data-target-2=\".side-collapse-container\" data-target-3=\".side-collapse\" aria-expanded=\"false\" aria-controls=\"navbar\">\\n\\n                    <span class=\"sr-only\">Toggle navigation</span>\\n                    <span class=\"icon-bar top-bar\"></span>\\n                    <span class=\"icon-bar middle-bar\"></span>\\n                    <span class=\"icon-bar bottom-bar\"></span>\\n\\n                </button>\\n            </a>\\n            <div class=\"navbar-brand\"><a href=\"/\"><img src=\"/img/logo_white.svg\" alt=\"\"></a></div>\\n        </div>\\n\\n        <div class=\"side-collapse in\">\\n            <nav id=\"navbar\"  role=\"navigation\" class=\"navbar-collapse collapse\">\\n                <ul class=\"nav navbar-nav navbar-right\">\\n                    <li class=\"hidden\">\\n                        <a href=\"#page-top\"></a>\\n                    </li>\\n                    \\n                        \\n                        \\n                            \\n                            \\n                        \\n                    \\n                    <li>\\n                        <a href=\"/\" class=\"menuitm\"><p>Web Scraper</p><div class=\"crta\"></div></a>\\n                    </li>\\n                    <li>\\n                        <a href=\"/cloud-scraper\" class=\"menuitm\"><p>Cloud Scraper</p><div class=\"crta\"></div></a>\\n                    </li>\\n                    <li>\\n                        <a href=\"/data-specialist\" class=\"menuitm\"><p>Order Data</p><div class=\"crta\"></div></a>\\n                    </li>\\n\\n                    \\n                        \\n                    \\n                    \\n                        \\n                    \\n\\n\\n\\n                    <li class=\"dropdown\">\\n                        <a href=\"#section3\" class=\"menuitm dropdown-toggle\" data-toggle=\"dropdown\"><p>Learn</p><div class=\"crta\"></div></a>\\n                        <ul class=\"dropdown-menu\">\\n                            <li><a href=\"/documentation\">Documentation</a></li>\\n                            <li><a href=\"/tutorials\">Video Tutorials</a></li>\\n                            <li><a href=\"/test-sites\">Test Sites</a></li>\\n                            <li><a href=\"https://forum.webscraper.io/\" target=\"_blank\">Forum</a></li>\\n                        </ul>\\n                    </li>\\n                    <li>\\n                        <a target=\"_blank\" href=\"https://chrome.google.com/webstore/detail/web-scraper/jnhgnonknehpejjnehehllkliplmbmhn?hl=en\" class=\"btn-menu1 install-extension\">Install</a>\\n                    </li>\\n                    <li>\\n                        <a href=\"https://cloud.webscraper.io/\" class=\"btn-menu2\">Login</a>\\n                    </li>\\n                </ul>\\n            </nav>\\n        </div>\\n    </div>\\n</header>\\n\\n<div class=\"wrapper\">\\n    \\t<div class=\"formenu-here container-fluid\">\\n\\n\\t</div>\\n\\t<div class=\"container-fluid blog-hero\">\\n\\t\\t<div class=\"container\">\\n\\t\\t\\t<div class=\"row\">\\n\\t\\t\\t\\t<div class=\"col-md-12\">\\n\\t\\t\\t\\t\\t<h1>Test Sites</h1>\\n\\t\\t\\t\\t</div>\\n\\t\\t\\t</div>\\n\\t\\t</div>\\n\\t</div>\\n\\n\\t<div class=\"container test-site\">\\n\\t\\t<div class=\"row\">\\n\\t\\t\\t<div class=\"col-md-3 sidebar\">\\n\\t\\t\\t\\t\\t<div class=\"navbar-default sidebar\" role=\"navigation\">\\n\\t<div class=\"sidebar-nav navbar-collapse\">\\n\\t\\t<ul class=\"nav\" id=\"side-menu\">\\n\\n\\t\\t\\t<li class=\"active\">\\n\\t\\t\\t\\t<a href=\"/test-sites/e-commerce/static\">Home</a>\\n\\t\\t\\t</li>\\n\\n\\t\\t\\t\\t\\t\\t\\t<li >\\n\\t\\t\\t\\t\\t<a href=\"/test-sites/e-commerce/static/computers\" class=\"category-link \">\\n\\t\\t\\t\\t\\t\\tComputers<span class=\"fa arrow\"></span>\\n\\t\\t\\t\\t\\t</a>\\n\\n\\t\\t\\t\\t\\t\\t\\t\\t\\t</li>\\n\\t\\t\\t\\t\\t\\t\\t<li >\\n\\t\\t\\t\\t\\t<a href=\"/test-sites/e-commerce/static/phones\" class=\"category-link \">\\n\\t\\t\\t\\t\\t\\tPhones<span class=\"fa arrow\"></span>\\n\\t\\t\\t\\t\\t</a>\\n\\n\\t\\t\\t\\t\\t\\t\\t\\t\\t</li>\\n\\t\\t\\t\\t\\t</ul>\\n\\t</div>\\n</div>\\n\\t\\t\\t</div>\\n\\t\\t\\t<div class=\"col-md-9\">\\n\\t\\t\\t\\t\\n<div class=\"jumbotron\">\\n\\t<h1>E-commerce training site</h1>\\n\\t<p>\\n\\t\\tWelcome to WebScraper e-commerce site. You can use this site for training\\n\\t\\tto learn how to use the Web Scraper. Items listed here are not for sale.\\n\\t</p>\\n</div>\\n\\n<h2>Top items being scraped right now</h2>\\n\\n<div class=\"row\">\\n\\t\\t\\t<div class=\"col-sm-4 col-lg-4 col-md-4\">\\n\\t<div class=\"thumbnail\">\\n\\t\\t<img class=\"img-responsive\" alt=\"item\"\\n\\t\\t\\t src=\"/images/test-sites/e-commerce/items/cart2.png\">\\n\\t\\t<div class=\"caption\">\\n\\t\\t\\t<h4 class=\"pull-right price\">$809.00</h4>\\n\\t\\t\\t<h4>\\n\\t\\t\\t\\t\\t\\t\\t\\t\\t<a href=\"/test-sites/e-commerce/static/product/243\" class=\"title\" title=\"Acer Nitro 5 AN515-51\">Acer Nitro 5 AN5...</a>\\n\\t\\t\\t\\t\\t\\t\\t</h4>\\n\\t\\t\\t<p class=\"description\">Acer Nitro 5 AN515-51, 15.6&quot; FHD IPS, Core i5-7300HQ, 8GB, 1TB, GeForce GTX 1050 2GB, Windows 10 Home</p>\\n\\n\\t\\t</div>\\n\\t\\t<div class=\"ratings\">\\n\\t\\t\\t<p class=\"pull-right\">0 reviews</p>\\n\\t\\t\\t<p data-rating=\"1\">\\n\\t\\t\\t\\t\\t\\t\\t\\t<span class=\"glyphicon glyphicon-star\"></span>\\n\\t\\t\\t\\t\\t\\t\\t</p>\\n\\t\\t</div>\\n\\t</div>\\n</div>\\t\\t\\t<div class=\"col-sm-4 col-lg-4 col-md-4\">\\n\\t<div class=\"thumbnail\">\\n\\t\\t<img class=\"img-responsive\" alt=\"item\"\\n\\t\\t\\t src=\"/images/test-sites/e-commerce/items/cart2.png\">\\n\\t\\t<div class=\"caption\">\\n\\t\\t\\t<h4 class=\"pull-right price\">$1260.13</h4>\\n\\t\\t\\t<h4>\\n\\t\\t\\t\\t\\t\\t\\t\\t\\t<a href=\"/test-sites/e-commerce/static/product/322\" class=\"title\" title=\"Apple MacBook Air 13&quot;\">Apple MacBook Ai...</a>\\n\\t\\t\\t\\t\\t\\t\\t</h4>\\n\\t\\t\\t<p class=\"description\">Apple MacBook Air 13&quot;, i5 1.8GHz, 8GB, 256GB SSD, Intel HD 6000, ENG</p>\\n\\n\\t\\t</div>\\n\\t\\t<div class=\"ratings\">\\n\\t\\t\\t<p class=\"pull-right\">8 reviews</p>\\n\\t\\t\\t<p data-rating=\"4\">\\n\\t\\t\\t\\t\\t\\t\\t\\t<span class=\"glyphicon glyphicon-star\"></span>\\n\\t\\t\\t\\t\\t\\t\\t\\t<span class=\"glyphicon glyphicon-star\"></span>\\n\\t\\t\\t\\t\\t\\t\\t\\t<span class=\"glyphicon glyphicon-star\"></span>\\n\\t\\t\\t\\t\\t\\t\\t\\t<span class=\"glyphicon glyphicon-star\"></span>\\n\\t\\t\\t\\t\\t\\t\\t</p>\\n\\t\\t</div>\\n\\t</div>\\n</div>\\t\\t\\t<div class=\"col-sm-4 col-lg-4 col-md-4\">\\n\\t<div class=\"thumbnail\">\\n\\t\\t<img class=\"img-responsive\" alt=\"item\"\\n\\t\\t\\t src=\"/images/test-sites/e-commerce/items/cart2.png\">\\n\\t\\t<div class=\"caption\">\\n\\t\\t\\t<h4 class=\"pull-right price\">$1102.66</h4>\\n\\t\\t\\t<h4>\\n\\t\\t\\t\\t\\t\\t\\t\\t\\t<a href=\"/test-sites/e-commerce/static/product/290\" class=\"title\" title=\"Dell Latitude 5280\">Dell Latitude 52...</a>\\n\\t\\t\\t\\t\\t\\t\\t</h4>\\n\\t\\t\\t<p class=\"description\">Dell Latitude 5280, 12.5&quot; HD, Core i5-7300U, 8GB, 256GB SSD, Windows 10 Pro</p>\\n\\n\\t\\t</div>\\n\\t\\t<div class=\"ratings\">\\n\\t\\t\\t<p class=\"pull-right\">8 reviews</p>\\n\\t\\t\\t<p data-rating=\"1\">\\n\\t\\t\\t\\t\\t\\t\\t\\t<span class=\"glyphicon glyphicon-star\"></span>\\n\\t\\t\\t\\t\\t\\t\\t</p>\\n\\t\\t</div>\\n\\t</div>\\n</div>\\t</div>\\n\\n\\n\\t\\t\\t</div>\\n\\t\\t</div>\\n\\t</div>\\n    <div class=\"clearfix\"></div>\\n    <div class=\"push\"></div>\\n</div>\\n\\n<div class=\"container-fluid footer\" id=\"layout-footer\">\\n    <div class=\"container\">\\n        <div class=\"row\">\\n            <div class=\"col-md-3\">\\n                <ul>\\n                    <li><h1>Products</h1></li>\\n                    <li><a href=\"/\">Web Scraper browser extension</a></li>\\n                    <li><a href=\"/pricing\">Cloud Web Scraper</a></li>\\n                    <li><a href=\"/data-specialist\">Custom Project</a></li>\\n\\n                    \\n                </ul>\\n            </div>\\n            <div class=\"col-md-3\">\\n                <ul>\\n                    <li><h1>Company</h1></li>\\n                    \\n                    <li><a href=\"/contact\">Contact</a></li>\\n                    \\n                    <li><a href=\"/privacy-policy\">Privacy Policy</a></li>\\n                    \\n\\t\\t\\t\\t\\t<li><a href=\"/jobs\">Jobs</a></li>\\n                </ul>\\n            </div>\\n            <div class=\"col-md-3\">\\n                <ul>\\n                    <li><h1>Resources</h1></li>\\n                    <li><a href=\"/blog\">Blog</a></li>\\n                    <li><a href=\"/documentation\">Documentation</a></li>\\n                    <li><a href=\"/tutorials\">Video Tutorials</a></li>\\n                    <li><a href=\"/screenshots\">Screenshots</a></li>\\n                    <li><a href=\"/test-sites\">Test Sites</a></li>\\n                    <li><a target=\"_blank\" href=\"https://forum.webscraper.io/\">Forum</a></li>\\n                </ul>\\n            </div>\\n            <div class=\"col-md-3\">\\n                <ul>\\n                    <li><h1>CONTACT US</h1></li>\\n                    <li><a href=\"mailto:info@webscraper.io\">info@webscraper.io</a></li>\\n                    \\n                    <li>Sporta street 2,<br> Riga, Latvia, LV-1013</li>\\n                </ul>\\n                <ul class=\"smedia\">\\n                    <li><a href=\"https://www.facebook.com/webscraperio/\" target=\"_blank\"><img src=\"/img/fbicon.png\" alt=\"\"></a></li>\\n                    <li><a href=\"https://twitter.com/webscraperio\" target=\"_blank\"><img src=\"/img/twicon.png\" alt=\"\"></a></li>\\n                    \\n\\n                </ul>\\n            </div>\\n        </div>\\n        <div class=\"row\">\\n            <div class=\"col-md-12\">\\n                <h2>Copyright &copy 2019 <a href=\"#\">Web Scraper</a> | All rights reserved | Made by zoom59</h2>\\n            </div>\\n        </div>\\n    </div>\\n</div>\\n\\n\\n</body>\\n</html>\\n'"
      ]
     },
     "execution_count": 9,
     "metadata": {},
     "output_type": "execute_result"
    }
   ],
   "source": [
    "content"
   ]
  },
  {
   "cell_type": "markdown",
   "metadata": {},
   "source": [
    "text 和 content 的不同：\n",
    "\n",
    "1. text 是回傳 unicode 的資料型態，如果讀取文字可以使用 text。\n",
    "2. content 是回傳 bytes 的資料型態，如果讀取圖片或文件可以使用 content。"
   ]
  },
  {
   "cell_type": "code",
   "execution_count": 10,
   "metadata": {},
   "outputs": [],
   "source": [
    "result = BeautifulSoup(content)"
   ]
  },
  {
   "cell_type": "code",
   "execution_count": 11,
   "metadata": {
    "scrolled": false
   },
   "outputs": [
    {
     "data": {
      "text/plain": [
       "<!DOCTYPE html>\n",
       "<html>\n",
       "<head>\n",
       "<!-- Anti-flicker snippet (recommended)  -->\n",
       "<style>.async-hide { opacity: 0 !important} </style>\n",
       "<script>(function(a,s,y,n,c,h,i,d,e){s.className+=' '+y;h.start=1*new Date;\n",
       "h.end=i=function(){s.className=s.className.replace(RegExp(' ?'+y),'')};\n",
       "(a[n]=a[n]||[]).hide=h;setTimeout(function(){i();h.end=null},c);h.timeout=c;\n",
       "})(window,document.documentElement,'async-hide','dataLayer',4000,\n",
       "{'GTM-NVFPDWB':true});</script>\n",
       "<!-- Google Tag Manager -->\n",
       "<script>(function(w,d,s,l,i){w[l]=w[l]||[];w[l].push({'gtm.start':\n",
       "\t\t\tnew Date().getTime(),event:'gtm.js'});var f=d.getElementsByTagName(s)[0],\n",
       "\t\tj=d.createElement(s),dl=l!='dataLayer'?'&l='+l:'';j.async=true;j.src=\n",
       "\t\t'https://www.googletagmanager.com/gtm.js?id='+i+dl;f.parentNode.insertBefore(j,f);\n",
       "\t})(window,document,'script','dataLayer','GTM-NVFPDWB');</script>\n",
       "<!-- End Google Tag Manager --> <title>Web Scraper Test Sites</title>\n",
       "<meta charset=\"utf-8\"/>\n",
       "<meta content=\"IE=edge,chrome=1\" http-equiv=\"X-UA-Compatible\"/>\n",
       "<meta content=\"web scraping,Web Scraper,Chrome extension,Crawling,Cross platform scraper, \" name=\"keywords\"/>\n",
       "<meta content=\"The most popular web scraping extension. Start scraping in minutes. Automate your tasks with our Cloud Scraper. No software to download, no coding needed.\" name=\"description\"/>\n",
       "<link href=\"/favicon.png\" rel=\"icon\" sizes=\"128x128\"/>\n",
       "<meta content=\"width=device-width, initial-scale=1.0\" name=\"viewport\"/>\n",
       "<link href=\"/css/app.css?id=03c8e2eed5cb0458c20d\" rel=\"stylesheet\"/>\n",
       "<script defer=\"\" src=\"/js/app.js?id=7596f414d529dc9c1cbb\"></script>\n",
       "</head>\n",
       "<body>\n",
       "<!-- Google Tag Manager (noscript) -->\n",
       "<noscript><iframe height=\"0\" src=\"https://www.googletagmanager.com/ns.html?id=GTM-NVFPDWB\" style=\"display:none;visibility:hidden\" width=\"0\"></iframe></noscript>\n",
       "<!-- End Google Tag Manager (noscript) --><header class=\"navbar navbar-fixed-top navbar-static\" role=\"banner\">\n",
       "<div class=\"container\">\n",
       "<div class=\"navbar-header\">\n",
       "<a data-target=\".side-collapse\" data-target-2=\".side-collapse-container\" data-toggle=\"collapse-side\">\n",
       "<button aria-controls=\"navbar\" aria-expanded=\"false\" class=\"navbar-toggle pull-right collapsed\" data-target=\"#navbar\" data-target-2=\".side-collapse-container\" data-target-3=\".side-collapse\" data-toggle=\"collapse\" type=\"button\">\n",
       "<span class=\"sr-only\">Toggle navigation</span>\n",
       "<span class=\"icon-bar top-bar\"></span>\n",
       "<span class=\"icon-bar middle-bar\"></span>\n",
       "<span class=\"icon-bar bottom-bar\"></span>\n",
       "</button>\n",
       "</a>\n",
       "<div class=\"navbar-brand\"><a href=\"/\"><img alt=\"\" src=\"/img/logo_white.svg\"/></a></div>\n",
       "</div>\n",
       "<div class=\"side-collapse in\">\n",
       "<nav class=\"navbar-collapse collapse\" id=\"navbar\" role=\"navigation\">\n",
       "<ul class=\"nav navbar-nav navbar-right\">\n",
       "<li class=\"hidden\">\n",
       "<a href=\"#page-top\"></a>\n",
       "</li>\n",
       "<li>\n",
       "<a class=\"menuitm\" href=\"/\"><p>Web Scraper</p><div class=\"crta\"></div></a>\n",
       "</li>\n",
       "<li>\n",
       "<a class=\"menuitm\" href=\"/cloud-scraper\"><p>Cloud Scraper</p><div class=\"crta\"></div></a>\n",
       "</li>\n",
       "<li>\n",
       "<a class=\"menuitm\" href=\"/data-specialist\"><p>Order Data</p><div class=\"crta\"></div></a>\n",
       "</li>\n",
       "<li class=\"dropdown\">\n",
       "<a class=\"menuitm dropdown-toggle\" data-toggle=\"dropdown\" href=\"#section3\"><p>Learn</p><div class=\"crta\"></div></a>\n",
       "<ul class=\"dropdown-menu\">\n",
       "<li><a href=\"/documentation\">Documentation</a></li>\n",
       "<li><a href=\"/tutorials\">Video Tutorials</a></li>\n",
       "<li><a href=\"/test-sites\">Test Sites</a></li>\n",
       "<li><a href=\"https://forum.webscraper.io/\" target=\"_blank\">Forum</a></li>\n",
       "</ul>\n",
       "</li>\n",
       "<li>\n",
       "<a class=\"btn-menu1 install-extension\" href=\"https://chrome.google.com/webstore/detail/web-scraper/jnhgnonknehpejjnehehllkliplmbmhn?hl=en\" target=\"_blank\">Install</a>\n",
       "</li>\n",
       "<li>\n",
       "<a class=\"btn-menu2\" href=\"https://cloud.webscraper.io/\">Login</a>\n",
       "</li>\n",
       "</ul>\n",
       "</nav>\n",
       "</div>\n",
       "</div>\n",
       "</header>\n",
       "<div class=\"wrapper\">\n",
       "<div class=\"formenu-here container-fluid\">\n",
       "</div>\n",
       "<div class=\"container-fluid blog-hero\">\n",
       "<div class=\"container\">\n",
       "<div class=\"row\">\n",
       "<div class=\"col-md-12\">\n",
       "<h1>Test Sites</h1>\n",
       "</div>\n",
       "</div>\n",
       "</div>\n",
       "</div>\n",
       "<div class=\"container test-site\">\n",
       "<div class=\"row\">\n",
       "<div class=\"col-md-3 sidebar\">\n",
       "<div class=\"navbar-default sidebar\" role=\"navigation\">\n",
       "<div class=\"sidebar-nav navbar-collapse\">\n",
       "<ul class=\"nav\" id=\"side-menu\">\n",
       "<li class=\"active\">\n",
       "<a href=\"/test-sites/e-commerce/static\">Home</a>\n",
       "</li>\n",
       "<li>\n",
       "<a class=\"category-link\" href=\"/test-sites/e-commerce/static/computers\">\n",
       "\t\t\t\t\t\tComputers<span class=\"fa arrow\"></span>\n",
       "</a>\n",
       "</li>\n",
       "<li>\n",
       "<a class=\"category-link\" href=\"/test-sites/e-commerce/static/phones\">\n",
       "\t\t\t\t\t\tPhones<span class=\"fa arrow\"></span>\n",
       "</a>\n",
       "</li>\n",
       "</ul>\n",
       "</div>\n",
       "</div>\n",
       "</div>\n",
       "<div class=\"col-md-9\">\n",
       "<div class=\"jumbotron\">\n",
       "<h1>E-commerce training site</h1>\n",
       "<p>\n",
       "\t\tWelcome to WebScraper e-commerce site. You can use this site for training\n",
       "\t\tto learn how to use the Web Scraper. Items listed here are not for sale.\n",
       "\t</p>\n",
       "</div>\n",
       "<h2>Top items being scraped right now</h2>\n",
       "<div class=\"row\">\n",
       "<div class=\"col-sm-4 col-lg-4 col-md-4\">\n",
       "<div class=\"thumbnail\">\n",
       "<img alt=\"item\" class=\"img-responsive\" src=\"/images/test-sites/e-commerce/items/cart2.png\"/>\n",
       "<div class=\"caption\">\n",
       "<h4 class=\"pull-right price\">$809.00</h4>\n",
       "<h4>\n",
       "<a class=\"title\" href=\"/test-sites/e-commerce/static/product/243\" title=\"Acer Nitro 5 AN515-51\">Acer Nitro 5 AN5...</a>\n",
       "</h4>\n",
       "<p class=\"description\">Acer Nitro 5 AN515-51, 15.6\" FHD IPS, Core i5-7300HQ, 8GB, 1TB, GeForce GTX 1050 2GB, Windows 10 Home</p>\n",
       "</div>\n",
       "<div class=\"ratings\">\n",
       "<p class=\"pull-right\">0 reviews</p>\n",
       "<p data-rating=\"1\">\n",
       "<span class=\"glyphicon glyphicon-star\"></span>\n",
       "</p>\n",
       "</div>\n",
       "</div>\n",
       "</div> <div class=\"col-sm-4 col-lg-4 col-md-4\">\n",
       "<div class=\"thumbnail\">\n",
       "<img alt=\"item\" class=\"img-responsive\" src=\"/images/test-sites/e-commerce/items/cart2.png\"/>\n",
       "<div class=\"caption\">\n",
       "<h4 class=\"pull-right price\">$1260.13</h4>\n",
       "<h4>\n",
       "<a class=\"title\" href=\"/test-sites/e-commerce/static/product/322\" title='Apple MacBook Air 13\"'>Apple MacBook Ai...</a>\n",
       "</h4>\n",
       "<p class=\"description\">Apple MacBook Air 13\", i5 1.8GHz, 8GB, 256GB SSD, Intel HD 6000, ENG</p>\n",
       "</div>\n",
       "<div class=\"ratings\">\n",
       "<p class=\"pull-right\">8 reviews</p>\n",
       "<p data-rating=\"4\">\n",
       "<span class=\"glyphicon glyphicon-star\"></span>\n",
       "<span class=\"glyphicon glyphicon-star\"></span>\n",
       "<span class=\"glyphicon glyphicon-star\"></span>\n",
       "<span class=\"glyphicon glyphicon-star\"></span>\n",
       "</p>\n",
       "</div>\n",
       "</div>\n",
       "</div> <div class=\"col-sm-4 col-lg-4 col-md-4\">\n",
       "<div class=\"thumbnail\">\n",
       "<img alt=\"item\" class=\"img-responsive\" src=\"/images/test-sites/e-commerce/items/cart2.png\"/>\n",
       "<div class=\"caption\">\n",
       "<h4 class=\"pull-right price\">$1102.66</h4>\n",
       "<h4>\n",
       "<a class=\"title\" href=\"/test-sites/e-commerce/static/product/290\" title=\"Dell Latitude 5280\">Dell Latitude 52...</a>\n",
       "</h4>\n",
       "<p class=\"description\">Dell Latitude 5280, 12.5\" HD, Core i5-7300U, 8GB, 256GB SSD, Windows 10 Pro</p>\n",
       "</div>\n",
       "<div class=\"ratings\">\n",
       "<p class=\"pull-right\">8 reviews</p>\n",
       "<p data-rating=\"1\">\n",
       "<span class=\"glyphicon glyphicon-star\"></span>\n",
       "</p>\n",
       "</div>\n",
       "</div>\n",
       "</div> </div>\n",
       "</div>\n",
       "</div>\n",
       "</div>\n",
       "<div class=\"clearfix\"></div>\n",
       "<div class=\"push\"></div>\n",
       "</div>\n",
       "<div class=\"container-fluid footer\" id=\"layout-footer\">\n",
       "<div class=\"container\">\n",
       "<div class=\"row\">\n",
       "<div class=\"col-md-3\">\n",
       "<ul>\n",
       "<li><h1>Products</h1></li>\n",
       "<li><a href=\"/\">Web Scraper browser extension</a></li>\n",
       "<li><a href=\"/pricing\">Cloud Web Scraper</a></li>\n",
       "<li><a href=\"/data-specialist\">Custom Project</a></li>\n",
       "</ul>\n",
       "</div>\n",
       "<div class=\"col-md-3\">\n",
       "<ul>\n",
       "<li><h1>Company</h1></li>\n",
       "<li><a href=\"/contact\">Contact</a></li>\n",
       "<li><a href=\"/privacy-policy\">Privacy Policy</a></li>\n",
       "<li><a href=\"/jobs\">Jobs</a></li>\n",
       "</ul>\n",
       "</div>\n",
       "<div class=\"col-md-3\">\n",
       "<ul>\n",
       "<li><h1>Resources</h1></li>\n",
       "<li><a href=\"/blog\">Blog</a></li>\n",
       "<li><a href=\"/documentation\">Documentation</a></li>\n",
       "<li><a href=\"/tutorials\">Video Tutorials</a></li>\n",
       "<li><a href=\"/screenshots\">Screenshots</a></li>\n",
       "<li><a href=\"/test-sites\">Test Sites</a></li>\n",
       "<li><a href=\"https://forum.webscraper.io/\" target=\"_blank\">Forum</a></li>\n",
       "</ul>\n",
       "</div>\n",
       "<div class=\"col-md-3\">\n",
       "<ul>\n",
       "<li><h1>CONTACT US</h1></li>\n",
       "<li><a href=\"mailto:info@webscraper.io\">info@webscraper.io</a></li>\n",
       "<li>Sporta street 2,<br/> Riga, Latvia, LV-1013</li>\n",
       "</ul>\n",
       "<ul class=\"smedia\">\n",
       "<li><a href=\"https://www.facebook.com/webscraperio/\" target=\"_blank\"><img alt=\"\" src=\"/img/fbicon.png\"/></a></li>\n",
       "<li><a href=\"https://twitter.com/webscraperio\" target=\"_blank\"><img alt=\"\" src=\"/img/twicon.png\"/></a></li>\n",
       "</ul>\n",
       "</div>\n",
       "</div>\n",
       "<div class=\"row\">\n",
       "<div class=\"col-md-12\">\n",
       "<h2>Copyright &amp;copy 2019 <a href=\"#\">Web Scraper</a> | All rights reserved | Made by zoom59</h2>\n",
       "</div>\n",
       "</div>\n",
       "</div>\n",
       "</div>\n",
       "</body>\n",
       "</html>"
      ]
     },
     "execution_count": 11,
     "metadata": {},
     "output_type": "execute_result"
    }
   ],
   "source": [
    "result"
   ]
  },
  {
   "cell_type": "code",
   "execution_count": 12,
   "metadata": {},
   "outputs": [],
   "source": [
    "result = BeautifulSoup(content,'html.parser')"
   ]
  },
  {
   "cell_type": "code",
   "execution_count": 13,
   "metadata": {
    "scrolled": false
   },
   "outputs": [
    {
     "data": {
      "text/plain": [
       "<!DOCTYPE html>\n",
       "\n",
       "<html>\n",
       "<head>\n",
       "<!-- Anti-flicker snippet (recommended)  -->\n",
       "<style>.async-hide { opacity: 0 !important} </style>\n",
       "<script>(function(a,s,y,n,c,h,i,d,e){s.className+=' '+y;h.start=1*new Date;\n",
       "h.end=i=function(){s.className=s.className.replace(RegExp(' ?'+y),'')};\n",
       "(a[n]=a[n]||[]).hide=h;setTimeout(function(){i();h.end=null},c);h.timeout=c;\n",
       "})(window,document.documentElement,'async-hide','dataLayer',4000,\n",
       "{'GTM-NVFPDWB':true});</script>\n",
       "<!-- Google Tag Manager -->\n",
       "<script>(function(w,d,s,l,i){w[l]=w[l]||[];w[l].push({'gtm.start':\n",
       "\t\t\tnew Date().getTime(),event:'gtm.js'});var f=d.getElementsByTagName(s)[0],\n",
       "\t\tj=d.createElement(s),dl=l!='dataLayer'?'&l='+l:'';j.async=true;j.src=\n",
       "\t\t'https://www.googletagmanager.com/gtm.js?id='+i+dl;f.parentNode.insertBefore(j,f);\n",
       "\t})(window,document,'script','dataLayer','GTM-NVFPDWB');</script>\n",
       "<!-- End Google Tag Manager --> <title>Web Scraper Test Sites</title>\n",
       "<meta charset=\"utf-8\"/>\n",
       "<meta content=\"IE=edge,chrome=1\" http-equiv=\"X-UA-Compatible\"/>\n",
       "<meta content=\"web scraping,Web Scraper,Chrome extension,Crawling,Cross platform scraper, \" name=\"keywords\">\n",
       "<meta content=\"The most popular web scraping extension. Start scraping in minutes. Automate your tasks with our Cloud Scraper. No software to download, no coding needed.\" name=\"description\">\n",
       "<link href=\"/favicon.png\" rel=\"icon\" sizes=\"128x128\"/>\n",
       "<meta content=\"width=device-width, initial-scale=1.0\" name=\"viewport\"/>\n",
       "<link href=\"/css/app.css?id=03c8e2eed5cb0458c20d\" rel=\"stylesheet\"/>\n",
       "<script defer=\"\" src=\"/js/app.js?id=7596f414d529dc9c1cbb\"></script>\n",
       "</meta></meta></head>\n",
       "<body>\n",
       "<!-- Google Tag Manager (noscript) -->\n",
       "<noscript><iframe height=\"0\" src=\"https://www.googletagmanager.com/ns.html?id=GTM-NVFPDWB\" style=\"display:none;visibility:hidden\" width=\"0\"></iframe></noscript>\n",
       "<!-- End Google Tag Manager (noscript) --><header class=\"navbar navbar-fixed-top navbar-static\" role=\"banner\">\n",
       "<div class=\"container\">\n",
       "<div class=\"navbar-header\">\n",
       "<a data-target=\".side-collapse\" data-target-2=\".side-collapse-container\" data-toggle=\"collapse-side\">\n",
       "<button aria-controls=\"navbar\" aria-expanded=\"false\" class=\"navbar-toggle pull-right collapsed\" data-target=\"#navbar\" data-target-2=\".side-collapse-container\" data-target-3=\".side-collapse\" data-toggle=\"collapse\" type=\"button\">\n",
       "<span class=\"sr-only\">Toggle navigation</span>\n",
       "<span class=\"icon-bar top-bar\"></span>\n",
       "<span class=\"icon-bar middle-bar\"></span>\n",
       "<span class=\"icon-bar bottom-bar\"></span>\n",
       "</button>\n",
       "</a>\n",
       "<div class=\"navbar-brand\"><a href=\"/\"><img alt=\"\" src=\"/img/logo_white.svg\"/></a></div>\n",
       "</div>\n",
       "<div class=\"side-collapse in\">\n",
       "<nav class=\"navbar-collapse collapse\" id=\"navbar\" role=\"navigation\">\n",
       "<ul class=\"nav navbar-nav navbar-right\">\n",
       "<li class=\"hidden\">\n",
       "<a href=\"#page-top\"></a>\n",
       "</li>\n",
       "<li>\n",
       "<a class=\"menuitm\" href=\"/\"><p>Web Scraper</p><div class=\"crta\"></div></a>\n",
       "</li>\n",
       "<li>\n",
       "<a class=\"menuitm\" href=\"/cloud-scraper\"><p>Cloud Scraper</p><div class=\"crta\"></div></a>\n",
       "</li>\n",
       "<li>\n",
       "<a class=\"menuitm\" href=\"/data-specialist\"><p>Order Data</p><div class=\"crta\"></div></a>\n",
       "</li>\n",
       "<li class=\"dropdown\">\n",
       "<a class=\"menuitm dropdown-toggle\" data-toggle=\"dropdown\" href=\"#section3\"><p>Learn</p><div class=\"crta\"></div></a>\n",
       "<ul class=\"dropdown-menu\">\n",
       "<li><a href=\"/documentation\">Documentation</a></li>\n",
       "<li><a href=\"/tutorials\">Video Tutorials</a></li>\n",
       "<li><a href=\"/test-sites\">Test Sites</a></li>\n",
       "<li><a href=\"https://forum.webscraper.io/\" target=\"_blank\">Forum</a></li>\n",
       "</ul>\n",
       "</li>\n",
       "<li>\n",
       "<a class=\"btn-menu1 install-extension\" href=\"https://chrome.google.com/webstore/detail/web-scraper/jnhgnonknehpejjnehehllkliplmbmhn?hl=en\" target=\"_blank\">Install</a>\n",
       "</li>\n",
       "<li>\n",
       "<a class=\"btn-menu2\" href=\"https://cloud.webscraper.io/\">Login</a>\n",
       "</li>\n",
       "</ul>\n",
       "</nav>\n",
       "</div>\n",
       "</div>\n",
       "</header>\n",
       "<div class=\"wrapper\">\n",
       "<div class=\"formenu-here container-fluid\">\n",
       "</div>\n",
       "<div class=\"container-fluid blog-hero\">\n",
       "<div class=\"container\">\n",
       "<div class=\"row\">\n",
       "<div class=\"col-md-12\">\n",
       "<h1>Test Sites</h1>\n",
       "</div>\n",
       "</div>\n",
       "</div>\n",
       "</div>\n",
       "<div class=\"container test-site\">\n",
       "<div class=\"row\">\n",
       "<div class=\"col-md-3 sidebar\">\n",
       "<div class=\"navbar-default sidebar\" role=\"navigation\">\n",
       "<div class=\"sidebar-nav navbar-collapse\">\n",
       "<ul class=\"nav\" id=\"side-menu\">\n",
       "<li class=\"active\">\n",
       "<a href=\"/test-sites/e-commerce/static\">Home</a>\n",
       "</li>\n",
       "<li>\n",
       "<a class=\"category-link\" href=\"/test-sites/e-commerce/static/computers\">\n",
       "\t\t\t\t\t\tComputers<span class=\"fa arrow\"></span>\n",
       "</a>\n",
       "</li>\n",
       "<li>\n",
       "<a class=\"category-link\" href=\"/test-sites/e-commerce/static/phones\">\n",
       "\t\t\t\t\t\tPhones<span class=\"fa arrow\"></span>\n",
       "</a>\n",
       "</li>\n",
       "</ul>\n",
       "</div>\n",
       "</div>\n",
       "</div>\n",
       "<div class=\"col-md-9\">\n",
       "<div class=\"jumbotron\">\n",
       "<h1>E-commerce training site</h1>\n",
       "<p>\n",
       "\t\tWelcome to WebScraper e-commerce site. You can use this site for training\n",
       "\t\tto learn how to use the Web Scraper. Items listed here are not for sale.\n",
       "\t</p>\n",
       "</div>\n",
       "<h2>Top items being scraped right now</h2>\n",
       "<div class=\"row\">\n",
       "<div class=\"col-sm-4 col-lg-4 col-md-4\">\n",
       "<div class=\"thumbnail\">\n",
       "<img alt=\"item\" class=\"img-responsive\" src=\"/images/test-sites/e-commerce/items/cart2.png\"/>\n",
       "<div class=\"caption\">\n",
       "<h4 class=\"pull-right price\">$809.00</h4>\n",
       "<h4>\n",
       "<a class=\"title\" href=\"/test-sites/e-commerce/static/product/243\" title=\"Acer Nitro 5 AN515-51\">Acer Nitro 5 AN5...</a>\n",
       "</h4>\n",
       "<p class=\"description\">Acer Nitro 5 AN515-51, 15.6\" FHD IPS, Core i5-7300HQ, 8GB, 1TB, GeForce GTX 1050 2GB, Windows 10 Home</p>\n",
       "</div>\n",
       "<div class=\"ratings\">\n",
       "<p class=\"pull-right\">0 reviews</p>\n",
       "<p data-rating=\"1\">\n",
       "<span class=\"glyphicon glyphicon-star\"></span>\n",
       "</p>\n",
       "</div>\n",
       "</div>\n",
       "</div> <div class=\"col-sm-4 col-lg-4 col-md-4\">\n",
       "<div class=\"thumbnail\">\n",
       "<img alt=\"item\" class=\"img-responsive\" src=\"/images/test-sites/e-commerce/items/cart2.png\"/>\n",
       "<div class=\"caption\">\n",
       "<h4 class=\"pull-right price\">$1260.13</h4>\n",
       "<h4>\n",
       "<a class=\"title\" href=\"/test-sites/e-commerce/static/product/322\" title='Apple MacBook Air 13\"'>Apple MacBook Ai...</a>\n",
       "</h4>\n",
       "<p class=\"description\">Apple MacBook Air 13\", i5 1.8GHz, 8GB, 256GB SSD, Intel HD 6000, ENG</p>\n",
       "</div>\n",
       "<div class=\"ratings\">\n",
       "<p class=\"pull-right\">8 reviews</p>\n",
       "<p data-rating=\"4\">\n",
       "<span class=\"glyphicon glyphicon-star\"></span>\n",
       "<span class=\"glyphicon glyphicon-star\"></span>\n",
       "<span class=\"glyphicon glyphicon-star\"></span>\n",
       "<span class=\"glyphicon glyphicon-star\"></span>\n",
       "</p>\n",
       "</div>\n",
       "</div>\n",
       "</div> <div class=\"col-sm-4 col-lg-4 col-md-4\">\n",
       "<div class=\"thumbnail\">\n",
       "<img alt=\"item\" class=\"img-responsive\" src=\"/images/test-sites/e-commerce/items/cart2.png\"/>\n",
       "<div class=\"caption\">\n",
       "<h4 class=\"pull-right price\">$1102.66</h4>\n",
       "<h4>\n",
       "<a class=\"title\" href=\"/test-sites/e-commerce/static/product/290\" title=\"Dell Latitude 5280\">Dell Latitude 52...</a>\n",
       "</h4>\n",
       "<p class=\"description\">Dell Latitude 5280, 12.5\" HD, Core i5-7300U, 8GB, 256GB SSD, Windows 10 Pro</p>\n",
       "</div>\n",
       "<div class=\"ratings\">\n",
       "<p class=\"pull-right\">8 reviews</p>\n",
       "<p data-rating=\"1\">\n",
       "<span class=\"glyphicon glyphicon-star\"></span>\n",
       "</p>\n",
       "</div>\n",
       "</div>\n",
       "</div> </div>\n",
       "</div>\n",
       "</div>\n",
       "</div>\n",
       "<div class=\"clearfix\"></div>\n",
       "<div class=\"push\"></div>\n",
       "</div>\n",
       "<div class=\"container-fluid footer\" id=\"layout-footer\">\n",
       "<div class=\"container\">\n",
       "<div class=\"row\">\n",
       "<div class=\"col-md-3\">\n",
       "<ul>\n",
       "<li><h1>Products</h1></li>\n",
       "<li><a href=\"/\">Web Scraper browser extension</a></li>\n",
       "<li><a href=\"/pricing\">Cloud Web Scraper</a></li>\n",
       "<li><a href=\"/data-specialist\">Custom Project</a></li>\n",
       "</ul>\n",
       "</div>\n",
       "<div class=\"col-md-3\">\n",
       "<ul>\n",
       "<li><h1>Company</h1></li>\n",
       "<li><a href=\"/contact\">Contact</a></li>\n",
       "<li><a href=\"/privacy-policy\">Privacy Policy</a></li>\n",
       "<li><a href=\"/jobs\">Jobs</a></li>\n",
       "</ul>\n",
       "</div>\n",
       "<div class=\"col-md-3\">\n",
       "<ul>\n",
       "<li><h1>Resources</h1></li>\n",
       "<li><a href=\"/blog\">Blog</a></li>\n",
       "<li><a href=\"/documentation\">Documentation</a></li>\n",
       "<li><a href=\"/tutorials\">Video Tutorials</a></li>\n",
       "<li><a href=\"/screenshots\">Screenshots</a></li>\n",
       "<li><a href=\"/test-sites\">Test Sites</a></li>\n",
       "<li><a href=\"https://forum.webscraper.io/\" target=\"_blank\">Forum</a></li>\n",
       "</ul>\n",
       "</div>\n",
       "<div class=\"col-md-3\">\n",
       "<ul>\n",
       "<li><h1>CONTACT US</h1></li>\n",
       "<li><a href=\"mailto:info@webscraper.io\">info@webscraper.io</a></li>\n",
       "<li>Sporta street 2,<br/> Riga, Latvia, LV-1013</li>\n",
       "</ul>\n",
       "<ul class=\"smedia\">\n",
       "<li><a href=\"https://www.facebook.com/webscraperio/\" target=\"_blank\"><img alt=\"\" src=\"/img/fbicon.png\"/></a></li>\n",
       "<li><a href=\"https://twitter.com/webscraperio\" target=\"_blank\"><img alt=\"\" src=\"/img/twicon.png\"/></a></li>\n",
       "</ul>\n",
       "</div>\n",
       "</div>\n",
       "<div class=\"row\">\n",
       "<div class=\"col-md-12\">\n",
       "<h2>Copyright © 2019 <a href=\"#\">Web Scraper</a> | All rights reserved | Made by zoom59</h2>\n",
       "</div>\n",
       "</div>\n",
       "</div>\n",
       "</div>\n",
       "</body>\n",
       "</html>"
      ]
     },
     "execution_count": 13,
     "metadata": {},
     "output_type": "execute_result"
    }
   ],
   "source": [
    "result"
   ]
  },
  {
   "cell_type": "code",
   "execution_count": null,
   "metadata": {},
   "outputs": [],
   "source": []
  }
 ],
 "metadata": {
  "kernelspec": {
   "display_name": "Python 3",
   "language": "python",
   "name": "python3"
  },
  "language_info": {
   "codemirror_mode": {
    "name": "ipython",
    "version": 3
   },
   "file_extension": ".py",
   "mimetype": "text/x-python",
   "name": "python",
   "nbconvert_exporter": "python",
   "pygments_lexer": "ipython3",
   "version": "3.7.4"
  }
 },
 "nbformat": 4,
 "nbformat_minor": 2
}
