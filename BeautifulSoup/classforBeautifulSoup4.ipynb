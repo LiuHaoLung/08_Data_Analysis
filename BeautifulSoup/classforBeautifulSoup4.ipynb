{
 "cells": [
  {
   "cell_type": "code",
   "execution_count": 1,
   "metadata": {},
   "outputs": [],
   "source": [
    "import requests\n",
    "import pandas\n",
    "\n",
    "from bs4 import BeautifulSoup"
   ]
  },
  {
   "cell_type": "code",
   "execution_count": 2,
   "metadata": {},
   "outputs": [],
   "source": [
    "webpage = requests.get('https://www.webscraper.io/test-sites/e-commerce/allinone/computers/tablets')"
   ]
  },
  {
   "cell_type": "markdown",
   "metadata": {},
   "source": [
    "抓取網址內的資料。"
   ]
  },
  {
   "cell_type": "code",
   "execution_count": 3,
   "metadata": {},
   "outputs": [],
   "source": [
    "content = webpage.content"
   ]
  },
  {
   "cell_type": "markdown",
   "metadata": {},
   "source": [
    "載入網頁裡的資料。"
   ]
  },
  {
   "cell_type": "code",
   "execution_count": 4,
   "metadata": {},
   "outputs": [],
   "source": [
    "result = BeautifulSoup(content,'html.parser')"
   ]
  },
  {
   "cell_type": "markdown",
   "metadata": {},
   "source": [
    "解析所抓到的資料。"
   ]
  },
  {
   "cell_type": "code",
   "execution_count": 5,
   "metadata": {},
   "outputs": [],
   "source": [
    "products = result.find_all('div',{\"class\":\"col-sm-4 col-lg-4 col-md-4\"})"
   ]
  },
  {
   "cell_type": "markdown",
   "metadata": {},
   "source": [
    "利用 div 和 class 辨認在網頁上的產品。"
   ]
  },
  {
   "cell_type": "code",
   "execution_count": 6,
   "metadata": {},
   "outputs": [],
   "source": [
    "names = []\n",
    "links = []\n",
    "prices = []"
   ]
  },
  {
   "cell_type": "markdown",
   "metadata": {},
   "source": [
    "儲存產品的資料。"
   ]
  },
  {
   "cell_type": "code",
   "execution_count": 7,
   "metadata": {},
   "outputs": [],
   "source": [
    "for item in products:\n",
    "    # 在 a tag 裡面的 srting 就是產品名稱\n",
    "    names.append(item.a.string)\n",
    "    # 在 a tag 裡面的 herf 的值 就是產品網址，且要在前面加上網址才會是正確的 url\n",
    "    links.append('https://www.webscraper.io' + item.a['href'])\n",
    "    # 在 h4 tag 裡面的 string 就是產品價格\n",
    "    prices.append(item.h4.string)"
   ]
  },
  {
   "cell_type": "code",
   "execution_count": 8,
   "metadata": {},
   "outputs": [],
   "source": [
    "data = list(zip(names,links,prices))"
   ]
  },
  {
   "cell_type": "markdown",
   "metadata": {},
   "source": [
    "將相同的資料對應再一起。"
   ]
  },
  {
   "cell_type": "code",
   "execution_count": 9,
   "metadata": {},
   "outputs": [],
   "source": [
    "d = pandas.DataFrame(data,columns = ['Name','Link','Price'])"
   ]
  },
  {
   "cell_type": "markdown",
   "metadata": {},
   "source": [
    "建立 excel行列。"
   ]
  },
  {
   "cell_type": "code",
   "execution_count": 10,
   "metadata": {},
   "outputs": [
    {
     "name": "stdout",
     "output_type": "stream",
     "text": [
      "\n",
      "Web data successfully written to Excel.\n",
      "\n",
      "Quitting the program. Bye!\n"
     ]
    }
   ],
   "source": [
    "try:\n",
    "    # 如果檔案不存在，則會自己建立檔案。\n",
    "    d.to_excel('Products.xlsx')\n",
    "\n",
    "except:\n",
    "    print('\\nSomething went wrong! Please check your code.')\n",
    "else:\n",
    "    print('\\nWeb data successfully written to Excel.')\n",
    "\n",
    "# 不管是否有誤，都會出現 finally\n",
    "finally:\n",
    "    print('\\nQuitting the program. Bye!')"
   ]
  },
  {
   "cell_type": "code",
   "execution_count": null,
   "metadata": {},
   "outputs": [],
   "source": []
  }
 ],
 "metadata": {
  "kernelspec": {
   "display_name": "Python 3",
   "language": "python",
   "name": "python3"
  },
  "language_info": {
   "codemirror_mode": {
    "name": "ipython",
    "version": 3
   },
   "file_extension": ".py",
   "mimetype": "text/x-python",
   "name": "python",
   "nbconvert_exporter": "python",
   "pygments_lexer": "ipython3",
   "version": "3.7.4"
  }
 },
 "nbformat": 4,
 "nbformat_minor": 2
}
