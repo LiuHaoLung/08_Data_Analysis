{
 "cells": [
  {
   "cell_type": "code",
   "execution_count": 1,
   "metadata": {},
   "outputs": [],
   "source": [
    "import psycopg2"
   ]
  },
  {
   "cell_type": "code",
   "execution_count": 2,
   "metadata": {},
   "outputs": [
    {
     "name": "stdout",
     "output_type": "stream",
     "text": [
      "Connect to database was successful!\n"
     ]
    }
   ],
   "source": [
    "try:\n",
    "    connection = psycopg2.connect(database = 'staff',user = 'louis',password = 'louis830630',host = '127.0.0.1',port = '5432')\n",
    "\n",
    "except psycopg2.Error as err:\n",
    "    print('An error was generated!')\n",
    "\n",
    "else:\n",
    "    print('Connect to database was successful!')"
   ]
  },
  {
   "cell_type": "code",
   "execution_count": 3,
   "metadata": {},
   "outputs": [],
   "source": [
    "cursor = connection.cursor()"
   ]
  },
  {
   "cell_type": "code",
   "execution_count": 4,
   "metadata": {},
   "outputs": [],
   "source": [
    "cursor.execute(\"insert into mystaff.employees (id,first_name,last_name,department,phone,address,salary) \\\n",
    " values (6, 'Jane', 'Sanders', 'HR', '0123452289', '6st Street, Miami', 61000);\")"
   ]
  },
  {
   "cell_type": "code",
   "execution_count": 6,
   "metadata": {},
   "outputs": [],
   "source": [
    "cursor.execute(\"select * from mystaff.employees;\")"
   ]
  },
  {
   "cell_type": "code",
   "execution_count": 7,
   "metadata": {},
   "outputs": [],
   "source": [
    "records = cursor.fetchall()"
   ]
  },
  {
   "cell_type": "code",
   "execution_count": 8,
   "metadata": {},
   "outputs": [
    {
     "name": "stdout",
     "output_type": "stream",
     "text": [
      "(1, 'John', 'Smith', 'Sales', '0123456789', '1st Street, Miami', 50000)\n",
      "(4, 'Karen', 'Willson', 'Logistics', '0823556785', '4th Street, Las Vegas', 41000)\n",
      "(5, 'Emma', 'Richard', 'Marketing', '0423453580', '5th Street, Denver', 40000)\n",
      "(2, 'Jack', 'Doe', 'IT', '0213456742', '2nd Street, NY', 55000)\n",
      "(3, 'Emily', 'Davids', 'Sales', '0123456999', '3rd Street, LA', 59000)\n",
      "(6, 'Jane', 'Sanders', 'HR', '0123452289', '6st Street, Miami', 61000)\n"
     ]
    }
   ],
   "source": [
    "for i in records:\n",
    "    print(i)"
   ]
  },
  {
   "cell_type": "markdown",
   "metadata": {},
   "source": [
    "在 In[4] 的地方，其實已經被加進 table 中，但在真正的資料庫裡並沒有看到。"
   ]
  },
  {
   "cell_type": "code",
   "execution_count": 9,
   "metadata": {},
   "outputs": [],
   "source": [
    "cursor = connection.cursor()"
   ]
  },
  {
   "cell_type": "code",
   "execution_count": 10,
   "metadata": {},
   "outputs": [],
   "source": [
    "connection.rollback()"
   ]
  },
  {
   "cell_type": "markdown",
   "metadata": {},
   "source": [
    "用 rollback 的方式，就會回到上一次 commit 的地方。"
   ]
  },
  {
   "cell_type": "code",
   "execution_count": 11,
   "metadata": {},
   "outputs": [],
   "source": [
    "cursor.execute(\"select * from mystaff.employees;\")"
   ]
  },
  {
   "cell_type": "code",
   "execution_count": 12,
   "metadata": {},
   "outputs": [],
   "source": [
    "records = cursor.fetchall()"
   ]
  },
  {
   "cell_type": "code",
   "execution_count": 13,
   "metadata": {},
   "outputs": [
    {
     "name": "stdout",
     "output_type": "stream",
     "text": [
      "(1, 'John', 'Smith', 'Sales', '0123456789', '1st Street, Miami', 50000)\n",
      "(4, 'Karen', 'Willson', 'Logistics', '0823556785', '4th Street, Las Vegas', 41000)\n",
      "(5, 'Emma', 'Richard', 'Marketing', '0423453580', '5th Street, Denver', 40000)\n",
      "(2, 'Jack', 'Doe', 'IT', '0213456742', '2nd Street, NY', 55000)\n",
      "(3, 'Emily', 'Davids', 'Sales', '0123456999', '3rd Street, LA', 59000)\n"
     ]
    }
   ],
   "source": [
    "for i in records:\n",
    "    print(i)"
   ]
  },
  {
   "cell_type": "markdown",
   "metadata": {},
   "source": [
    "在 rollback 後，就會發現，6這筆資料已經不見了。"
   ]
  },
  {
   "cell_type": "code",
   "execution_count": 14,
   "metadata": {},
   "outputs": [],
   "source": [
    "cursor.execute(\"insert into mystaff.employees (id,first_name,last_name,department,phone,address,salary) \\\n",
    " values (6, 'Jane', 'Sanders', 'HR', '0123452289', '6st Street, Miami', 61000);\")"
   ]
  },
  {
   "cell_type": "code",
   "execution_count": 15,
   "metadata": {},
   "outputs": [],
   "source": [
    "connection.commit()"
   ]
  },
  {
   "cell_type": "markdown",
   "metadata": {},
   "source": [
    "只要有了 commit 後，這個動作就會被儲存起來。"
   ]
  },
  {
   "cell_type": "code",
   "execution_count": 16,
   "metadata": {},
   "outputs": [],
   "source": [
    "connection.close()"
   ]
  },
  {
   "cell_type": "code",
   "execution_count": null,
   "metadata": {},
   "outputs": [],
   "source": []
  }
 ],
 "metadata": {
  "kernelspec": {
   "display_name": "Python 3",
   "language": "python",
   "name": "python3"
  },
  "language_info": {
   "codemirror_mode": {
    "name": "ipython",
    "version": 3
   },
   "file_extension": ".py",
   "mimetype": "text/x-python",
   "name": "python",
   "nbconvert_exporter": "python",
   "pygments_lexer": "ipython3",
   "version": "3.7.3"
  }
 },
 "nbformat": 4,
 "nbformat_minor": 2
}
