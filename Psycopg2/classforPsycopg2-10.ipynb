{
 "cells": [
  {
   "cell_type": "code",
   "execution_count": 1,
   "metadata": {},
   "outputs": [],
   "source": [
    "import psycopg2"
   ]
  },
  {
   "cell_type": "code",
   "execution_count": 2,
   "metadata": {},
   "outputs": [],
   "source": [
    "f = open('employees.txt')"
   ]
  },
  {
   "cell_type": "code",
   "execution_count": 3,
   "metadata": {},
   "outputs": [],
   "source": [
    "records = []"
   ]
  },
  {
   "cell_type": "code",
   "execution_count": 4,
   "metadata": {},
   "outputs": [],
   "source": [
    "for i in f.readlines():\n",
    "    records.append(i.split('/ '))"
   ]
  },
  {
   "cell_type": "code",
   "execution_count": 5,
   "metadata": {},
   "outputs": [
    {
     "data": {
      "text/plain": [
       "[['1',\n",
       "  'Luke',\n",
       "  'Phillip',\n",
       "  'Sales',\n",
       "  '121921900',\n",
       "  '1st Address, Miami',\n",
       "  '52000\\n'],\n",
       " ['2', 'Jack', 'Darren', 'IT', '12918210', '2nd Address, Miami', '52200\\n'],\n",
       " ['3', 'Ken', 'Wood', 'IT', '20192101', '3rd Address, Miami', '58000\\n'],\n",
       " ['4',\n",
       "  'John',\n",
       "  'Wilson',\n",
       "  'Marketing',\n",
       "  '31312311',\n",
       "  '4th Address, Miami',\n",
       "  '58700\\n'],\n",
       " ['5',\n",
       "  'Emily',\n",
       "  'Larson',\n",
       "  'Marketing',\n",
       "  '43423434',\n",
       "  '5th Address, Miami',\n",
       "  '60000\\n'],\n",
       " ['6',\n",
       "  'Anna',\n",
       "  'Sullivan',\n",
       "  'Sales',\n",
       "  '323232291',\n",
       "  '6th Address, Miami',\n",
       "  '54000\\n'],\n",
       " ['7',\n",
       "  'Richard',\n",
       "  'Smith',\n",
       "  'Logistics',\n",
       "  '1277177910',\n",
       "  '7th Address, Miami',\n",
       "  '56000\\n'],\n",
       " ['8',\n",
       "  'Ronnie',\n",
       "  'Moore',\n",
       "  'Sales',\n",
       "  '3691919186',\n",
       "  '8th Address, Miami',\n",
       "  '49000\\n'],\n",
       " ['9',\n",
       "  'Benjamin',\n",
       "  'Drake',\n",
       "  'IT',\n",
       "  '215557299',\n",
       "  '9th Address, Miami',\n",
       "  '53000\\n'],\n",
       " ['10',\n",
       "  'Wayne',\n",
       "  'Barker',\n",
       "  'Logistics',\n",
       "  '3266617791',\n",
       "  '10th Address, Miami',\n",
       "  '59500']]"
      ]
     },
     "execution_count": 5,
     "metadata": {},
     "output_type": "execute_result"
    }
   ],
   "source": [
    "records"
   ]
  },
  {
   "cell_type": "code",
   "execution_count": 6,
   "metadata": {},
   "outputs": [
    {
     "name": "stdout",
     "output_type": "stream",
     "text": [
      "Connect to database was successful!\n"
     ]
    }
   ],
   "source": [
    "try:\n",
    "    connection = psycopg2.connect(database = 'staff',user = 'louis',password = 'louis830630',host = '127.0.0.1',port = '5432')\n",
    "\n",
    "except psycopg2.Error as err:\n",
    "    print('An error was generated!')\n",
    "\n",
    "else:\n",
    "    print('Connect to database was successful!')"
   ]
  },
  {
   "cell_type": "markdown",
   "metadata": {},
   "source": [
    "在 PSQL 上執行：\n",
    "1. <code>select * from xxx.xxx</code>第一個 xxx 代表的是資料庫名稱，第二個 xxx 代表的是資料表的名稱，也就是說要看在這個資料庫的資料表內是不是有資料。\n",
    "2. <code>delete from xxx.xxx</code>第一個 xxx 代表的是資料庫名稱，第二個 xxx 代表的是資料表的名稱，也就是說要刪除在這個資料表內的所有資料。"
   ]
  },
  {
   "cell_type": "code",
   "execution_count": 7,
   "metadata": {},
   "outputs": [],
   "source": [
    "cursor = connection.cursor()"
   ]
  },
  {
   "cell_type": "code",
   "execution_count": 8,
   "metadata": {},
   "outputs": [
    {
     "name": "stdout",
     "output_type": "stream",
     "text": [
      "An error was generated while inserting the records!\n"
     ]
    }
   ],
   "source": [
    "try:\n",
    "    for i in records:\n",
    "        cursor.execute(\"insert into mystaff.employees (id,first_name,last_name,department,phone,address,salary) values (%s,%s,%s,%s,%s,%s,%s);\",(i[0],i[1],i[2],i[3],i[4],i[5],i[6]))\n",
    "\n",
    "except psycopg2.Error as err:\n",
    "    print(\"An error was generated while inserting the records!\")\n",
    "    \n",
    "else:\n",
    "    print(\"Records inserted successfully!\\n\")"
   ]
  },
  {
   "cell_type": "markdown",
   "metadata": {},
   "source": [
    "在 <code>for i in records</code>的 index，分別代表：\n",
    "1. <code>i[0]</code>代表的是 id。\n",
    "2. <code>i[1]</code>代表的是 first_name。\n",
    "3. <code>i[2]</code>代表的是 last_name。\n",
    "4. <code>i[3]</code>代表的是 department。\n",
    "5. <code>i[4]</code>代表的是 phone。\n",
    "6. <code>i[5]</code>代表的是 address。\n",
    "7. <code>i[6]</code>代表的是 salary。\n",
    "\n",
    "會一行一行讀寫，所以會對應到不同的欄位。"
   ]
  },
  {
   "cell_type": "code",
   "execution_count": 9,
   "metadata": {},
   "outputs": [],
   "source": [
    "connection.commit()"
   ]
  },
  {
   "cell_type": "code",
   "execution_count": 10,
   "metadata": {},
   "outputs": [],
   "source": [
    "connection.close()"
   ]
  }
 ],
 "metadata": {
  "kernelspec": {
   "display_name": "Python 3",
   "language": "python",
   "name": "python3"
  },
  "language_info": {
   "codemirror_mode": {
    "name": "ipython",
    "version": 3
   },
   "file_extension": ".py",
   "mimetype": "text/x-python",
   "name": "python",
   "nbconvert_exporter": "python",
   "pygments_lexer": "ipython3",
   "version": "3.7.3"
  }
 },
 "nbformat": 4,
 "nbformat_minor": 2
}
