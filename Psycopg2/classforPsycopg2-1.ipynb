{
 "cells": [
  {
   "cell_type": "code",
   "execution_count": 1,
   "metadata": {},
   "outputs": [],
   "source": [
    "import psycopg2"
   ]
  },
  {
   "cell_type": "markdown",
   "metadata": {},
   "source": [
    "在 PSQL 上執行：\n",
    "1. <code>\\l</code> 可以看到現在在資料庫內有幾個資料表。\n",
    "2. <code>create database xxx;</code>可以建立想要的資料庫，其中 xxx 是可以自訂名稱，後面一定要加分號（;）。\n",
    "3. <code>create user xxx with encrypted password 'xxx';</code>可以自己建立使用者，在第一個 xxx 代表的是使用者的名稱，在第二個 xxx 代表的是使用者的密碼，其中密碼要打在 '' 裡面。\n",
    "4. <code>\\du</code>可以看到目前的使用者有哪些人。\n",
    "5. <code>grant all privileges on database xxx to xxx;</code>可以將資料庫的授權給予某個使用者，第一個 xxx 代表的是資料庫的名稱，第二個 xxx 代表的是使用者的名稱。\n",
    "6. <code>create schema xxx authorization xxx;</code>可以建立模式，並授權給使用者，第一個 xxx 是資料庫的名稱，第二個 xxx 是使用者的名稱。\n",
    "7. <code>\\dn</code>可以看到目前的 schema 有什麼。\n",
    "8. <code>drop schema xxx;</code>可以刪除資料庫的模式，其中 xxx 代表資料庫的名稱。\n",
    "9. <code>\\c xxx xxx</code>進入某個使用者的資料庫，第一個 xxx 代表是資料庫，第二個 xxx 是使用者的名稱。\n",
    "10. <code>\\c postgres</code>回到上一頁。\n",
    "11. <code>drop user xxx</code>刪除某個使用者，xxx 代表使用者的名稱\n",
    "12. <code>drop database xxx </code>刪除某個資料庫，xxx 代表資料庫的名稱。"
   ]
  },
  {
   "cell_type": "code",
   "execution_count": null,
   "metadata": {},
   "outputs": [],
   "source": []
  }
 ],
 "metadata": {
  "kernelspec": {
   "display_name": "Python 3",
   "language": "python",
   "name": "python3"
  },
  "language_info": {
   "codemirror_mode": {
    "name": "ipython",
    "version": 3
   },
   "file_extension": ".py",
   "mimetype": "text/x-python",
   "name": "python",
   "nbconvert_exporter": "python",
   "pygments_lexer": "ipython3",
   "version": "3.7.3"
  }
 },
 "nbformat": 4,
 "nbformat_minor": 2
}
