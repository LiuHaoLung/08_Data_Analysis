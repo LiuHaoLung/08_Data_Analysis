{
 "cells": [
  {
   "cell_type": "code",
   "execution_count": 1,
   "metadata": {},
   "outputs": [],
   "source": [
    "import openpyxl"
   ]
  },
  {
   "cell_type": "code",
   "execution_count": 2,
   "metadata": {},
   "outputs": [],
   "source": [
    "workbook = openpyxl.load_workbook(\"Employees.xlsx\")"
   ]
  },
  {
   "cell_type": "code",
   "execution_count": 3,
   "metadata": {},
   "outputs": [
    {
     "data": {
      "text/plain": [
       "<openpyxl.packaging.core.DocumentProperties object>\n",
       "Parameters:\n",
       "creator='openpyxl', title=None, description=None, subject=None, identifier=None, language=None, created=datetime.datetime(2015, 6, 5, 18, 17, 20), modified=datetime.datetime(2019, 9, 20, 6, 56, 45), lastModifiedBy='Microsoft Office User', category=None, contentStatus=None, version=None, revision=None, keywords=None, lastPrinted=None"
      ]
     },
     "execution_count": 3,
     "metadata": {},
     "output_type": "execute_result"
    }
   ],
   "source": [
    "workbook.properties"
   ]
  },
  {
   "cell_type": "markdown",
   "metadata": {},
   "source": [
    "用 properties 的方式，可以得到這個excel的所有屬性。"
   ]
  },
  {
   "cell_type": "code",
   "execution_count": 4,
   "metadata": {},
   "outputs": [
    {
     "data": {
      "text/plain": [
       "['EmployeeData', 'Salaries', 'Skills']"
      ]
     },
     "execution_count": 4,
     "metadata": {},
     "output_type": "execute_result"
    }
   ],
   "source": [
    "workbook.sheetnames"
   ]
  },
  {
   "cell_type": "markdown",
   "metadata": {},
   "source": [
    "可以看到再這個excel裡面，有幾個工作表，並顯示出工作表的名字。"
   ]
  },
  {
   "cell_type": "code",
   "execution_count": 5,
   "metadata": {
    "scrolled": true
   },
   "outputs": [
    {
     "data": {
      "text/plain": [
       "<Worksheet \"EmployeeData\">"
      ]
     },
     "execution_count": 5,
     "metadata": {},
     "output_type": "execute_result"
    }
   ],
   "source": [
    "workbook.active"
   ]
  },
  {
   "cell_type": "markdown",
   "metadata": {},
   "source": [
    "通常會是在excel的第一個工作表，或是說目前正在執行的工作表。"
   ]
  },
  {
   "cell_type": "code",
   "execution_count": 6,
   "metadata": {},
   "outputs": [],
   "source": [
    "sheet = workbook['EmployeeData']"
   ]
  },
  {
   "cell_type": "markdown",
   "metadata": {},
   "source": [
    "可以將要執行的工作表指定給其他變數（reference），之後就可以利用這個變數進行執行。"
   ]
  },
  {
   "cell_type": "code",
   "execution_count": 7,
   "metadata": {},
   "outputs": [
    {
     "data": {
      "text/plain": [
       "<Worksheet \"TestSheet\">"
      ]
     },
     "execution_count": 7,
     "metadata": {},
     "output_type": "execute_result"
    }
   ],
   "source": [
    "workbook.create_sheet('TestSheet')"
   ]
  },
  {
   "cell_type": "markdown",
   "metadata": {},
   "source": [
    "可以用這個方法來在excel裡面建立新的資料表，這個建立的新資料表就會出現在這個excel的最後面。"
   ]
  },
  {
   "cell_type": "code",
   "execution_count": 8,
   "metadata": {},
   "outputs": [],
   "source": [
    "workbook.save('Employees.xlsx')"
   ]
  },
  {
   "cell_type": "markdown",
   "metadata": {},
   "source": [
    "建立完資料表後，就要進行存檔。"
   ]
  },
  {
   "cell_type": "code",
   "execution_count": 9,
   "metadata": {},
   "outputs": [],
   "source": [
    "sheet = workbook['TestSheet']"
   ]
  },
  {
   "cell_type": "code",
   "execution_count": 10,
   "metadata": {},
   "outputs": [],
   "source": [
    "workbook.remove(sheet)"
   ]
  },
  {
   "cell_type": "markdown",
   "metadata": {},
   "source": [
    "如果要刪除在excel裡面的資料表，則可以用 remove 的方式，就可以進行刪除，因為在 In[9] 已經將這個資料表指定給 sheet，所以在 In[10] 的地方，參數就是 sheet。"
   ]
  },
  {
   "cell_type": "code",
   "execution_count": 11,
   "metadata": {
    "scrolled": false
   },
   "outputs": [
    {
     "ename": "KeyError",
     "evalue": "'Worksheet TestSheet does not exist.'",
     "output_type": "error",
     "traceback": [
      "\u001b[0;31m---------------------------------------------------------------------------\u001b[0m",
      "\u001b[0;31mKeyError\u001b[0m                                  Traceback (most recent call last)",
      "\u001b[0;32m<ipython-input-11-4c4cd575ee59>\u001b[0m in \u001b[0;36m<module>\u001b[0;34m\u001b[0m\n\u001b[0;32m----> 1\u001b[0;31m \u001b[0;32mdel\u001b[0m \u001b[0mworkbook\u001b[0m\u001b[0;34m[\u001b[0m\u001b[0;34m'TestSheet'\u001b[0m\u001b[0;34m]\u001b[0m\u001b[0;34m\u001b[0m\u001b[0;34m\u001b[0m\u001b[0m\n\u001b[0m",
      "\u001b[0;32m~/anaconda3/lib/python3.7/site-packages/openpyxl/workbook/workbook.py\u001b[0m in \u001b[0;36m__delitem__\u001b[0;34m(self, key)\u001b[0m\n\u001b[1;32m    279\u001b[0m \u001b[0;34m\u001b[0m\u001b[0m\n\u001b[1;32m    280\u001b[0m     \u001b[0;32mdef\u001b[0m \u001b[0m__delitem__\u001b[0m\u001b[0;34m(\u001b[0m\u001b[0mself\u001b[0m\u001b[0;34m,\u001b[0m \u001b[0mkey\u001b[0m\u001b[0;34m)\u001b[0m\u001b[0;34m:\u001b[0m\u001b[0;34m\u001b[0m\u001b[0;34m\u001b[0m\u001b[0m\n\u001b[0;32m--> 281\u001b[0;31m         \u001b[0msheet\u001b[0m \u001b[0;34m=\u001b[0m \u001b[0mself\u001b[0m\u001b[0;34m[\u001b[0m\u001b[0mkey\u001b[0m\u001b[0;34m]\u001b[0m\u001b[0;34m\u001b[0m\u001b[0;34m\u001b[0m\u001b[0m\n\u001b[0m\u001b[1;32m    282\u001b[0m         \u001b[0mself\u001b[0m\u001b[0;34m.\u001b[0m\u001b[0mremove\u001b[0m\u001b[0;34m(\u001b[0m\u001b[0msheet\u001b[0m\u001b[0;34m)\u001b[0m\u001b[0;34m\u001b[0m\u001b[0;34m\u001b[0m\u001b[0m\n\u001b[1;32m    283\u001b[0m \u001b[0;34m\u001b[0m\u001b[0m\n",
      "\u001b[0;32m~/anaconda3/lib/python3.7/site-packages/openpyxl/workbook/workbook.py\u001b[0m in \u001b[0;36m__getitem__\u001b[0;34m(self, key)\u001b[0m\n\u001b[1;32m    276\u001b[0m             \u001b[0;32mif\u001b[0m \u001b[0msheet\u001b[0m\u001b[0;34m.\u001b[0m\u001b[0mtitle\u001b[0m \u001b[0;34m==\u001b[0m \u001b[0mkey\u001b[0m\u001b[0;34m:\u001b[0m\u001b[0;34m\u001b[0m\u001b[0;34m\u001b[0m\u001b[0m\n\u001b[1;32m    277\u001b[0m                 \u001b[0;32mreturn\u001b[0m \u001b[0msheet\u001b[0m\u001b[0;34m\u001b[0m\u001b[0;34m\u001b[0m\u001b[0m\n\u001b[0;32m--> 278\u001b[0;31m         \u001b[0;32mraise\u001b[0m \u001b[0mKeyError\u001b[0m\u001b[0;34m(\u001b[0m\u001b[0;34m\"Worksheet {0} does not exist.\"\u001b[0m\u001b[0;34m.\u001b[0m\u001b[0mformat\u001b[0m\u001b[0;34m(\u001b[0m\u001b[0mkey\u001b[0m\u001b[0;34m)\u001b[0m\u001b[0;34m)\u001b[0m\u001b[0;34m\u001b[0m\u001b[0;34m\u001b[0m\u001b[0m\n\u001b[0m\u001b[1;32m    279\u001b[0m \u001b[0;34m\u001b[0m\u001b[0m\n\u001b[1;32m    280\u001b[0m     \u001b[0;32mdef\u001b[0m \u001b[0m__delitem__\u001b[0m\u001b[0;34m(\u001b[0m\u001b[0mself\u001b[0m\u001b[0;34m,\u001b[0m \u001b[0mkey\u001b[0m\u001b[0;34m)\u001b[0m\u001b[0;34m:\u001b[0m\u001b[0;34m\u001b[0m\u001b[0;34m\u001b[0m\u001b[0m\n",
      "\u001b[0;31mKeyError\u001b[0m: 'Worksheet TestSheet does not exist.'"
     ]
    }
   ],
   "source": [
    "del workbook['TestSheet']"
   ]
  },
  {
   "cell_type": "markdown",
   "metadata": {},
   "source": [
    "除了用 remove的方式，也可以用 del 的方式來進行刪除，參數為原本資料表的名稱。因為已經在 In[10] 的地方刪除了，所以在執行 del ，就會出現錯誤訊息，並告知這個資料表已經不存在了。"
   ]
  },
  {
   "cell_type": "code",
   "execution_count": 12,
   "metadata": {},
   "outputs": [],
   "source": [
    "workbook.save('Employees.xlsx')"
   ]
  },
  {
   "cell_type": "markdown",
   "metadata": {},
   "source": [
    "因為有做出改變，所以要再存檔一次。"
   ]
  },
  {
   "cell_type": "code",
   "execution_count": 13,
   "metadata": {},
   "outputs": [],
   "source": [
    "sheet = workbook['EmployeeData']"
   ]
  },
  {
   "cell_type": "code",
   "execution_count": 14,
   "metadata": {},
   "outputs": [
    {
     "data": {
      "text/plain": [
       "'EmployeeData'"
      ]
     },
     "execution_count": 14,
     "metadata": {},
     "output_type": "execute_result"
    }
   ],
   "source": [
    "sheet.title"
   ]
  },
  {
   "cell_type": "markdown",
   "metadata": {},
   "source": [
    "可以得到這個資料表的名稱。"
   ]
  },
  {
   "cell_type": "code",
   "execution_count": 15,
   "metadata": {
    "scrolled": false
   },
   "outputs": [
    {
     "data": {
      "text/plain": [
       "['BREAK_COLUMN',\n",
       " 'BREAK_NONE',\n",
       " 'BREAK_ROW',\n",
       " 'HeaderFooter',\n",
       " 'ORIENTATION_LANDSCAPE',\n",
       " 'ORIENTATION_PORTRAIT',\n",
       " 'PAPERSIZE_A3',\n",
       " 'PAPERSIZE_A4',\n",
       " 'PAPERSIZE_A4_SMALL',\n",
       " 'PAPERSIZE_A5',\n",
       " 'PAPERSIZE_EXECUTIVE',\n",
       " 'PAPERSIZE_LEDGER',\n",
       " 'PAPERSIZE_LEGAL',\n",
       " 'PAPERSIZE_LETTER',\n",
       " 'PAPERSIZE_LETTER_SMALL',\n",
       " 'PAPERSIZE_STATEMENT',\n",
       " 'PAPERSIZE_TABLOID',\n",
       " 'SHEETSTATE_HIDDEN',\n",
       " 'SHEETSTATE_VERYHIDDEN',\n",
       " 'SHEETSTATE_VISIBLE',\n",
       " '_WorkbookChild__title',\n",
       " '__class__',\n",
       " '__delattr__',\n",
       " '__delitem__',\n",
       " '__dict__',\n",
       " '__dir__',\n",
       " '__doc__',\n",
       " '__eq__',\n",
       " '__format__',\n",
       " '__ge__',\n",
       " '__getattribute__',\n",
       " '__getitem__',\n",
       " '__gt__',\n",
       " '__hash__',\n",
       " '__init__',\n",
       " '__init_subclass__',\n",
       " '__iter__',\n",
       " '__le__',\n",
       " '__lt__',\n",
       " '__module__',\n",
       " '__ne__',\n",
       " '__new__',\n",
       " '__reduce__',\n",
       " '__reduce_ex__',\n",
       " '__repr__',\n",
       " '__setattr__',\n",
       " '__setitem__',\n",
       " '__sizeof__',\n",
       " '__str__',\n",
       " '__subclasshook__',\n",
       " '__weakref__',\n",
       " '_add_cell',\n",
       " '_add_column',\n",
       " '_add_row',\n",
       " '_cells',\n",
       " '_cells_by_col',\n",
       " '_cells_by_row',\n",
       " '_charts',\n",
       " '_clean_merge_range',\n",
       " '_comments',\n",
       " '_current_row',\n",
       " '_default_title',\n",
       " '_drawing',\n",
       " '_get_cell',\n",
       " '_hyperlinks',\n",
       " '_id',\n",
       " '_images',\n",
       " '_invalid_row',\n",
       " '_move_cell',\n",
       " '_move_cells',\n",
       " '_parent',\n",
       " '_path',\n",
       " '_pivots',\n",
       " '_print_area',\n",
       " '_print_cols',\n",
       " '_print_rows',\n",
       " '_rel_type',\n",
       " '_rels',\n",
       " '_setup',\n",
       " '_tables',\n",
       " 'active_cell',\n",
       " 'add_chart',\n",
       " 'add_data_validation',\n",
       " 'add_image',\n",
       " 'add_pivot',\n",
       " 'add_table',\n",
       " 'append',\n",
       " 'auto_filter',\n",
       " 'calculate_dimension',\n",
       " 'cell',\n",
       " 'col_breaks',\n",
       " 'column_dimensions',\n",
       " 'columns',\n",
       " 'conditional_formatting',\n",
       " 'data_validations',\n",
       " 'delete_cols',\n",
       " 'delete_rows',\n",
       " 'dimensions',\n",
       " 'encoding',\n",
       " 'evenFooter',\n",
       " 'evenHeader',\n",
       " 'firstFooter',\n",
       " 'firstHeader',\n",
       " 'formula_attributes',\n",
       " 'freeze_panes',\n",
       " 'insert_cols',\n",
       " 'insert_rows',\n",
       " 'iter_cols',\n",
       " 'iter_rows',\n",
       " 'legacy_drawing',\n",
       " 'max_column',\n",
       " 'max_row',\n",
       " 'merge_cells',\n",
       " 'merged_cell_ranges',\n",
       " 'merged_cells',\n",
       " 'mime_type',\n",
       " 'min_column',\n",
       " 'min_row',\n",
       " 'move_range',\n",
       " 'oddFooter',\n",
       " 'oddHeader',\n",
       " 'orientation',\n",
       " 'page_breaks',\n",
       " 'page_margins',\n",
       " 'page_setup',\n",
       " 'paper_size',\n",
       " 'parent',\n",
       " 'path',\n",
       " 'print_area',\n",
       " 'print_options',\n",
       " 'print_title_cols',\n",
       " 'print_title_rows',\n",
       " 'print_titles',\n",
       " 'protection',\n",
       " 'row_breaks',\n",
       " 'row_dimensions',\n",
       " 'rows',\n",
       " 'scenarios',\n",
       " 'selected_cell',\n",
       " 'set_printer_settings',\n",
       " 'sheet_format',\n",
       " 'sheet_properties',\n",
       " 'sheet_state',\n",
       " 'sheet_view',\n",
       " 'show_gridlines',\n",
       " 'show_summary_below',\n",
       " 'show_summary_right',\n",
       " 'title',\n",
       " 'unmerge_cells',\n",
       " 'values',\n",
       " 'views']"
      ]
     },
     "execution_count": 15,
     "metadata": {},
     "output_type": "execute_result"
    }
   ],
   "source": [
    "dir(sheet)"
   ]
  },
  {
   "cell_type": "markdown",
   "metadata": {},
   "source": [
    "可以看到這個資料表所有可以用的方法及屬性。"
   ]
  },
  {
   "cell_type": "code",
   "execution_count": 16,
   "metadata": {},
   "outputs": [
    {
     "data": {
      "text/plain": [
       "'A1'"
      ]
     },
     "execution_count": 16,
     "metadata": {},
     "output_type": "execute_result"
    }
   ],
   "source": [
    "sheet.active_cell"
   ]
  },
  {
   "cell_type": "code",
   "execution_count": 17,
   "metadata": {},
   "outputs": [
    {
     "data": {
      "text/plain": [
       "'A1:F11'"
      ]
     },
     "execution_count": 17,
     "metadata": {},
     "output_type": "execute_result"
    }
   ],
   "source": [
    "sheet.dimensions"
   ]
  },
  {
   "cell_type": "markdown",
   "metadata": {},
   "source": [
    "可以看到這個工作表是從哪裡開始到哪裡結束。"
   ]
  },
  {
   "cell_type": "code",
   "execution_count": 18,
   "metadata": {},
   "outputs": [
    {
     "data": {
      "text/plain": [
       "<openpyxl.worksheet.dimensions.SheetFormatProperties object>\n",
       "Parameters:\n",
       "baseColWidth=10, defaultColWidth=9.19921875, defaultRowHeight=14.0, customHeight=None, zeroHeight=None, thickTop=None, thickBottom=None, outlineLevelRow=None, outlineLevelCol=0"
      ]
     },
     "execution_count": 18,
     "metadata": {},
     "output_type": "execute_result"
    }
   ],
   "source": [
    "sheet.sheet_format"
   ]
  },
  {
   "cell_type": "markdown",
   "metadata": {},
   "source": [
    "可以得知這個資料表內的所有格式。"
   ]
  },
  {
   "cell_type": "code",
   "execution_count": 19,
   "metadata": {},
   "outputs": [
    {
     "data": {
      "text/plain": [
       "<openpyxl.worksheet.properties.WorksheetProperties object>\n",
       "Parameters:\n",
       "codeName=None, enableFormatConditionsCalculation=None, filterMode=None, published=None, syncHorizontal=None, syncRef=None, syncVertical=None, transitionEvaluation=None, transitionEntry=None, tabColor=None, outlinePr=<openpyxl.worksheet.properties.Outline object>\n",
       "Parameters:\n",
       "applyStyles=None, summaryBelow=True, summaryRight=True, showOutlineSymbols=None, pageSetUpPr=<openpyxl.worksheet.properties.PageSetupProperties object>\n",
       "Parameters:\n",
       "autoPageBreaks=None, fitToPage=None"
      ]
     },
     "execution_count": 19,
     "metadata": {},
     "output_type": "execute_result"
    }
   ],
   "source": [
    "sheet.sheet_properties"
   ]
  },
  {
   "cell_type": "markdown",
   "metadata": {},
   "source": [
    "可以得知這個工作表內所有的屬性。"
   ]
  },
  {
   "cell_type": "code",
   "execution_count": 20,
   "metadata": {},
   "outputs": [
    {
     "data": {
      "text/plain": [
       "'visible'"
      ]
     },
     "execution_count": 20,
     "metadata": {},
     "output_type": "execute_result"
    }
   ],
   "source": [
    "sheet.sheet_state"
   ]
  },
  {
   "cell_type": "markdown",
   "metadata": {},
   "source": [
    "可以得知這個資料表，在excel裡面是隱藏還是非隱藏的。"
   ]
  },
  {
   "cell_type": "code",
   "execution_count": 21,
   "metadata": {},
   "outputs": [
    {
     "data": {
      "text/plain": [
       "<openpyxl.worksheet.views.SheetView object>\n",
       "Parameters:\n",
       "windowProtection=None, showFormulas=None, showGridLines=None, showRowColHeaders=None, showZeros=None, rightToLeft=None, tabSelected=True, showRuler=None, showOutlineSymbols=None, defaultGridColor=None, showWhiteSpace=None, view=None, topLeftCell=None, colorId=None, zoomScale=150, zoomScaleNormal=250, zoomScaleSheetLayoutView=None, zoomScalePageLayoutView=None, zoomToFit=None, workbookViewId=0, pane=None, selection=[<openpyxl.worksheet.views.Selection object>\n",
       "Parameters:\n",
       "pane=None, activeCell='A1', activeCellId=None, sqref='A1']"
      ]
     },
     "execution_count": 21,
     "metadata": {},
     "output_type": "execute_result"
    }
   ],
   "source": [
    "sheet.sheet_view"
   ]
  },
  {
   "cell_type": "code",
   "execution_count": 22,
   "metadata": {
    "scrolled": false
   },
   "outputs": [
    {
     "data": {
      "text/plain": [
       "['BREAK_COLUMN',\n",
       " 'BREAK_NONE',\n",
       " 'BREAK_ROW',\n",
       " 'HeaderFooter',\n",
       " 'ORIENTATION_LANDSCAPE',\n",
       " 'ORIENTATION_PORTRAIT',\n",
       " 'PAPERSIZE_A3',\n",
       " 'PAPERSIZE_A4',\n",
       " 'PAPERSIZE_A4_SMALL',\n",
       " 'PAPERSIZE_A5',\n",
       " 'PAPERSIZE_EXECUTIVE',\n",
       " 'PAPERSIZE_LEDGER',\n",
       " 'PAPERSIZE_LEGAL',\n",
       " 'PAPERSIZE_LETTER',\n",
       " 'PAPERSIZE_LETTER_SMALL',\n",
       " 'PAPERSIZE_STATEMENT',\n",
       " 'PAPERSIZE_TABLOID',\n",
       " 'SHEETSTATE_HIDDEN',\n",
       " 'SHEETSTATE_VERYHIDDEN',\n",
       " 'SHEETSTATE_VISIBLE',\n",
       " '_WorkbookChild__title',\n",
       " '__class__',\n",
       " '__delattr__',\n",
       " '__delitem__',\n",
       " '__dict__',\n",
       " '__dir__',\n",
       " '__doc__',\n",
       " '__eq__',\n",
       " '__format__',\n",
       " '__ge__',\n",
       " '__getattribute__',\n",
       " '__getitem__',\n",
       " '__gt__',\n",
       " '__hash__',\n",
       " '__init__',\n",
       " '__init_subclass__',\n",
       " '__iter__',\n",
       " '__le__',\n",
       " '__lt__',\n",
       " '__module__',\n",
       " '__ne__',\n",
       " '__new__',\n",
       " '__reduce__',\n",
       " '__reduce_ex__',\n",
       " '__repr__',\n",
       " '__setattr__',\n",
       " '__setitem__',\n",
       " '__sizeof__',\n",
       " '__str__',\n",
       " '__subclasshook__',\n",
       " '__weakref__',\n",
       " '_add_cell',\n",
       " '_add_column',\n",
       " '_add_row',\n",
       " '_cells',\n",
       " '_cells_by_col',\n",
       " '_cells_by_row',\n",
       " '_charts',\n",
       " '_clean_merge_range',\n",
       " '_comments',\n",
       " '_current_row',\n",
       " '_default_title',\n",
       " '_drawing',\n",
       " '_get_cell',\n",
       " '_hyperlinks',\n",
       " '_id',\n",
       " '_images',\n",
       " '_invalid_row',\n",
       " '_move_cell',\n",
       " '_move_cells',\n",
       " '_parent',\n",
       " '_path',\n",
       " '_pivots',\n",
       " '_print_area',\n",
       " '_print_cols',\n",
       " '_print_rows',\n",
       " '_rel_type',\n",
       " '_rels',\n",
       " '_setup',\n",
       " '_tables',\n",
       " 'active_cell',\n",
       " 'add_chart',\n",
       " 'add_data_validation',\n",
       " 'add_image',\n",
       " 'add_pivot',\n",
       " 'add_table',\n",
       " 'append',\n",
       " 'auto_filter',\n",
       " 'calculate_dimension',\n",
       " 'cell',\n",
       " 'col_breaks',\n",
       " 'column_dimensions',\n",
       " 'columns',\n",
       " 'conditional_formatting',\n",
       " 'data_validations',\n",
       " 'delete_cols',\n",
       " 'delete_rows',\n",
       " 'dimensions',\n",
       " 'encoding',\n",
       " 'evenFooter',\n",
       " 'evenHeader',\n",
       " 'firstFooter',\n",
       " 'firstHeader',\n",
       " 'formula_attributes',\n",
       " 'freeze_panes',\n",
       " 'insert_cols',\n",
       " 'insert_rows',\n",
       " 'iter_cols',\n",
       " 'iter_rows',\n",
       " 'legacy_drawing',\n",
       " 'max_column',\n",
       " 'max_row',\n",
       " 'merge_cells',\n",
       " 'merged_cell_ranges',\n",
       " 'merged_cells',\n",
       " 'mime_type',\n",
       " 'min_column',\n",
       " 'min_row',\n",
       " 'move_range',\n",
       " 'oddFooter',\n",
       " 'oddHeader',\n",
       " 'orientation',\n",
       " 'page_breaks',\n",
       " 'page_margins',\n",
       " 'page_setup',\n",
       " 'paper_size',\n",
       " 'parent',\n",
       " 'path',\n",
       " 'print_area',\n",
       " 'print_options',\n",
       " 'print_title_cols',\n",
       " 'print_title_rows',\n",
       " 'print_titles',\n",
       " 'protection',\n",
       " 'row_breaks',\n",
       " 'row_dimensions',\n",
       " 'rows',\n",
       " 'scenarios',\n",
       " 'selected_cell',\n",
       " 'set_printer_settings',\n",
       " 'sheet_format',\n",
       " 'sheet_properties',\n",
       " 'sheet_state',\n",
       " 'sheet_view',\n",
       " 'show_gridlines',\n",
       " 'show_summary_below',\n",
       " 'show_summary_right',\n",
       " 'title',\n",
       " 'unmerge_cells',\n",
       " 'values',\n",
       " 'views']"
      ]
     },
     "execution_count": 22,
     "metadata": {},
     "output_type": "execute_result"
    }
   ],
   "source": [
    "dir(sheet)"
   ]
  },
  {
   "cell_type": "code",
   "execution_count": 23,
   "metadata": {},
   "outputs": [
    {
     "data": {
      "text/plain": [
       "11"
      ]
     },
     "execution_count": 23,
     "metadata": {},
     "output_type": "execute_result"
    }
   ],
   "source": [
    "sheet.max_row"
   ]
  },
  {
   "cell_type": "markdown",
   "metadata": {},
   "source": [
    "這個資料表最大的行是多少。"
   ]
  },
  {
   "cell_type": "code",
   "execution_count": 24,
   "metadata": {},
   "outputs": [
    {
     "data": {
      "text/plain": [
       "6"
      ]
     },
     "execution_count": 24,
     "metadata": {},
     "output_type": "execute_result"
    }
   ],
   "source": [
    "sheet.max_column"
   ]
  },
  {
   "cell_type": "markdown",
   "metadata": {},
   "source": [
    "這個資料表最大的列是多少。"
   ]
  },
  {
   "cell_type": "code",
   "execution_count": 25,
   "metadata": {},
   "outputs": [
    {
     "name": "stdout",
     "output_type": "stream",
     "text": [
      "('ID', 'FirstName', 'LastName', 'Department', 'Phone', 'Address')\n",
      "(1, 'David', 'Phillip', 'Sales', 1234567890, '1st Address, Miami')\n",
      "(2, 'Jack', 'Darren', 'IT', 1234567891, '2nd Address, Miami')\n",
      "(3, 'Ken', 'Wood', 'IT', 1234567892, '3rd Address, Miami')\n",
      "(4, 'John', 'Wilson', 'Marketing', 1234567893, '4th Address, Miami')\n",
      "(5, 'Emily', 'Larson', 'Marketing', 1234567894, '5th Address, Miami')\n",
      "(6, 'Anna', 'Sullivan', 'Sales', 1234567895, '6th Address, Miami')\n",
      "(7, 'Richard', 'Smith', 'Logistics', 1234567896, '7th Address, Miami')\n",
      "(8, 'Ronnie', 'Moore', 'Sales', 1234567897, '8th Address, Miami')\n",
      "(9, 'Test', 'Drake', 'IT', 1234567898, '9th Address, Miami')\n",
      "(10, 'Wayne', 'Barker', 'Logistics', 1234567899, '10th Address, Miami')\n"
     ]
    }
   ],
   "source": [
    "for i in sheet.values:\n",
    "    print(i)"
   ]
  },
  {
   "cell_type": "markdown",
   "metadata": {},
   "source": [
    "可以回傳在這個資料表內所有行的值，並以 tuples 的資料型態回傳。"
   ]
  },
  {
   "cell_type": "code",
   "execution_count": 26,
   "metadata": {},
   "outputs": [
    {
     "data": {
      "text/plain": [
       "'Anna'"
      ]
     },
     "execution_count": 26,
     "metadata": {},
     "output_type": "execute_result"
    }
   ],
   "source": [
    "sheet['B7'].value"
   ]
  },
  {
   "cell_type": "markdown",
   "metadata": {},
   "source": [
    "可以回傳指定位置的值。"
   ]
  },
  {
   "cell_type": "code",
   "execution_count": 27,
   "metadata": {},
   "outputs": [
    {
     "data": {
      "text/plain": [
       "'Emily'"
      ]
     },
     "execution_count": 27,
     "metadata": {},
     "output_type": "execute_result"
    }
   ],
   "source": [
    "sheet.cell(row = 6,column = 2).value"
   ]
  },
  {
   "cell_type": "markdown",
   "metadata": {},
   "source": [
    "除了用 In[26] 的方式之外，也可以用 In[27] 的方式，來回傳指定位置的值。第六行第二列的位置（B6）。"
   ]
  },
  {
   "cell_type": "code",
   "execution_count": 28,
   "metadata": {},
   "outputs": [],
   "source": [
    "cell = sheet['B9']"
   ]
  },
  {
   "cell_type": "code",
   "execution_count": 29,
   "metadata": {},
   "outputs": [
    {
     "data": {
      "text/plain": [
       "9"
      ]
     },
     "execution_count": 29,
     "metadata": {},
     "output_type": "execute_result"
    }
   ],
   "source": [
    "cell.row"
   ]
  },
  {
   "cell_type": "code",
   "execution_count": 30,
   "metadata": {},
   "outputs": [
    {
     "data": {
      "text/plain": [
       "2"
      ]
     },
     "execution_count": 30,
     "metadata": {},
     "output_type": "execute_result"
    }
   ],
   "source": [
    "cell.column"
   ]
  },
  {
   "cell_type": "code",
   "execution_count": 31,
   "metadata": {},
   "outputs": [
    {
     "data": {
      "text/plain": [
       "'B9'"
      ]
     },
     "execution_count": 31,
     "metadata": {},
     "output_type": "execute_result"
    }
   ],
   "source": [
    "cell.coordinate"
   ]
  },
  {
   "cell_type": "code",
   "execution_count": 32,
   "metadata": {},
   "outputs": [
    {
     "data": {
      "text/plain": [
       "'s'"
      ]
     },
     "execution_count": 32,
     "metadata": {},
     "output_type": "execute_result"
    }
   ],
   "source": [
    "cell.data_type"
   ]
  },
  {
   "cell_type": "markdown",
   "metadata": {},
   "source": [
    "因為在B9這個位置，是字串，所以會回傳s（string）。"
   ]
  },
  {
   "cell_type": "code",
   "execution_count": 33,
   "metadata": {},
   "outputs": [
    {
     "data": {
      "text/plain": [
       "'utf-8'"
      ]
     },
     "execution_count": 33,
     "metadata": {},
     "output_type": "execute_result"
    }
   ],
   "source": [
    "cell.encoding"
   ]
  },
  {
   "cell_type": "markdown",
   "metadata": {},
   "source": [
    "可以回傳這個位置的編碼是什麼。"
   ]
  },
  {
   "cell_type": "code",
   "execution_count": 34,
   "metadata": {},
   "outputs": [],
   "source": [
    "cell = sheet['B2']"
   ]
  },
  {
   "cell_type": "code",
   "execution_count": 35,
   "metadata": {},
   "outputs": [],
   "source": [
    "cell.value = 'David'"
   ]
  },
  {
   "cell_type": "code",
   "execution_count": 36,
   "metadata": {},
   "outputs": [],
   "source": [
    "workbook.save('Employees.xlsx')"
   ]
  },
  {
   "cell_type": "markdown",
   "metadata": {},
   "source": [
    "可以更改在這個資料表內的值。"
   ]
  },
  {
   "cell_type": "code",
   "execution_count": 37,
   "metadata": {},
   "outputs": [
    {
     "data": {
      "text/plain": [
       "<Worksheet \"EmployeeData\">"
      ]
     },
     "execution_count": 37,
     "metadata": {},
     "output_type": "execute_result"
    }
   ],
   "source": [
    "cell.parent"
   ]
  },
  {
   "cell_type": "markdown",
   "metadata": {},
   "source": [
    "可以用 parent 這個方法，來確定目前正在執行的行列是在哪一個資料表裡面。"
   ]
  },
  {
   "cell_type": "code",
   "execution_count": 38,
   "metadata": {
    "scrolled": false
   },
   "outputs": [
    {
     "data": {
      "text/plain": [
       "['DEFUSEDXML',\n",
       " 'LXML',\n",
       " 'NUMPY',\n",
       " 'PANDAS',\n",
       " 'Workbook',\n",
       " '__author__',\n",
       " '__author_email__',\n",
       " '__builtins__',\n",
       " '__cached__',\n",
       " '__doc__',\n",
       " '__file__',\n",
       " '__license__',\n",
       " '__loader__',\n",
       " '__maintainer_email__',\n",
       " '__name__',\n",
       " '__package__',\n",
       " '__path__',\n",
       " '__spec__',\n",
       " '__url__',\n",
       " '__version__',\n",
       " '_constants',\n",
       " 'cell',\n",
       " 'chart',\n",
       " 'chartsheet',\n",
       " 'comments',\n",
       " 'compat',\n",
       " 'constants',\n",
       " 'descriptors',\n",
       " 'drawing',\n",
       " 'formatting',\n",
       " 'formula',\n",
       " 'load_workbook',\n",
       " 'packaging',\n",
       " 'pivot',\n",
       " 'reader',\n",
       " 'styles',\n",
       " 'utils',\n",
       " 'workbook',\n",
       " 'worksheet',\n",
       " 'writer',\n",
       " 'xml']"
      ]
     },
     "execution_count": 38,
     "metadata": {},
     "output_type": "execute_result"
    }
   ],
   "source": [
    "dir(openpyxl)"
   ]
  },
  {
   "cell_type": "code",
   "execution_count": 39,
   "metadata": {},
   "outputs": [
    {
     "data": {
      "text/plain": [
       "['Alignment',\n",
       " 'Border',\n",
       " 'Color',\n",
       " 'DEFAULT_FONT',\n",
       " 'Fill',\n",
       " 'Font',\n",
       " 'GradientFill',\n",
       " 'NamedStyle',\n",
       " 'NumberFormatDescriptor',\n",
       " 'PatternFill',\n",
       " 'Protection',\n",
       " 'Side',\n",
       " '__builtins__',\n",
       " '__cached__',\n",
       " '__doc__',\n",
       " '__file__',\n",
       " '__loader__',\n",
       " '__name__',\n",
       " '__package__',\n",
       " '__path__',\n",
       " '__spec__',\n",
       " 'absolute_import',\n",
       " 'alignment',\n",
       " 'borders',\n",
       " 'builtins',\n",
       " 'cell_style',\n",
       " 'colors',\n",
       " 'differential',\n",
       " 'fills',\n",
       " 'fonts',\n",
       " 'is_builtin',\n",
       " 'is_date_format',\n",
       " 'named_styles',\n",
       " 'numbers',\n",
       " 'protection',\n",
       " 'proxy',\n",
       " 'styleable',\n",
       " 'stylesheet',\n",
       " 'table']"
      ]
     },
     "execution_count": 39,
     "metadata": {},
     "output_type": "execute_result"
    }
   ],
   "source": [
    "dir(openpyxl.styles)"
   ]
  },
  {
   "cell_type": "code",
   "execution_count": 40,
   "metadata": {},
   "outputs": [],
   "source": [
    "from openpyxl.styles import *"
   ]
  },
  {
   "cell_type": "code",
   "execution_count": 41,
   "metadata": {},
   "outputs": [],
   "source": [
    "sheet = workbook['EmployeeData']"
   ]
  },
  {
   "cell_type": "code",
   "execution_count": 42,
   "metadata": {},
   "outputs": [],
   "source": [
    "cell = sheet['B8']"
   ]
  },
  {
   "cell_type": "code",
   "execution_count": 43,
   "metadata": {},
   "outputs": [],
   "source": [
    "font = Font(color = colors.RED,bold = True,italic = True)"
   ]
  },
  {
   "cell_type": "markdown",
   "metadata": {},
   "source": [
    "將字體的顏色設為紅色（color），並是粗體（bold）和斜體（italic）。"
   ]
  },
  {
   "cell_type": "code",
   "execution_count": 44,
   "metadata": {},
   "outputs": [],
   "source": [
    "cell.font = font"
   ]
  },
  {
   "cell_type": "code",
   "execution_count": 45,
   "metadata": {},
   "outputs": [],
   "source": [
    "fill = PatternFill(fill_type = 'solid',bgColor = 'E7FE2E')"
   ]
  },
  {
   "cell_type": "markdown",
   "metadata": {},
   "source": [
    "將該格的背景色填滿並設為（E7FE2E），"
   ]
  },
  {
   "cell_type": "code",
   "execution_count": 46,
   "metadata": {},
   "outputs": [],
   "source": [
    "cell.fill = fill"
   ]
  },
  {
   "cell_type": "code",
   "execution_count": 47,
   "metadata": {},
   "outputs": [],
   "source": [
    "border = Border(left = Side(border_style = 'double',color = '322FEC'),right = Side(border_style = 'double',color = '322FEC'),top = Side(border_style = 'double',color = '322FEC'),bottom = Side(border_style = 'double',color = '322FEC'))"
   ]
  },
  {
   "cell_type": "markdown",
   "metadata": {},
   "source": [
    "設定上下左右的邊線為雙線，並設定顏色為（322FEC）。"
   ]
  },
  {
   "cell_type": "code",
   "execution_count": 48,
   "metadata": {},
   "outputs": [],
   "source": [
    "cell.border = border"
   ]
  },
  {
   "cell_type": "code",
   "execution_count": 49,
   "metadata": {},
   "outputs": [],
   "source": [
    "align = Alignment(horizontal = 'left')"
   ]
  },
  {
   "cell_type": "markdown",
   "metadata": {},
   "source": [
    "將文字對齊方式變為向左對齊。"
   ]
  },
  {
   "cell_type": "code",
   "execution_count": 50,
   "metadata": {},
   "outputs": [],
   "source": [
    "cell.alignment = align"
   ]
  },
  {
   "cell_type": "code",
   "execution_count": 51,
   "metadata": {},
   "outputs": [],
   "source": [
    "workbook.save(\"Employees.xlsx\")"
   ]
  },
  {
   "cell_type": "code",
   "execution_count": null,
   "metadata": {},
   "outputs": [],
   "source": []
  }
 ],
 "metadata": {
  "kernelspec": {
   "display_name": "Python 3",
   "language": "python",
   "name": "python3"
  },
  "language_info": {
   "codemirror_mode": {
    "name": "ipython",
    "version": 3
   },
   "file_extension": ".py",
   "mimetype": "text/x-python",
   "name": "python",
   "nbconvert_exporter": "python",
   "pygments_lexer": "ipython3",
   "version": "3.7.4"
  }
 },
 "nbformat": 4,
 "nbformat_minor": 2
}
