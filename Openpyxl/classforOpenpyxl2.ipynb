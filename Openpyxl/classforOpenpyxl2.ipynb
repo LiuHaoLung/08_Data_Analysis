{
 "cells": [
  {
   "cell_type": "code",
   "execution_count": 1,
   "metadata": {},
   "outputs": [],
   "source": [
    "from openpyxl import Workbook"
   ]
  },
  {
   "cell_type": "code",
   "execution_count": 2,
   "metadata": {},
   "outputs": [],
   "source": [
    "from openpyxl.styles import *"
   ]
  },
  {
   "cell_type": "code",
   "execution_count": 3,
   "metadata": {},
   "outputs": [],
   "source": [
    "from openpyxl.worksheet.table import Table,TableStyleInfo"
   ]
  },
  {
   "cell_type": "code",
   "execution_count": 4,
   "metadata": {},
   "outputs": [],
   "source": [
    "text_file = open('employees.txt')"
   ]
  },
  {
   "cell_type": "markdown",
   "metadata": {},
   "source": [
    "打開要寫入excel的檔案。"
   ]
  },
  {
   "cell_type": "code",
   "execution_count": 5,
   "metadata": {},
   "outputs": [],
   "source": [
    "records = []"
   ]
  },
  {
   "cell_type": "code",
   "execution_count": 6,
   "metadata": {},
   "outputs": [
    {
     "data": {
      "text/plain": [
       "0"
      ]
     },
     "execution_count": 6,
     "metadata": {},
     "output_type": "execute_result"
    }
   ],
   "source": [
    "text_file.seek(0)"
   ]
  },
  {
   "cell_type": "code",
   "execution_count": 7,
   "metadata": {},
   "outputs": [],
   "source": [
    "for record in text_file.readlines():\n",
    "    records.append(record.rstrip('\\n').split(';'))"
   ]
  },
  {
   "cell_type": "code",
   "execution_count": 8,
   "metadata": {},
   "outputs": [
    {
     "data": {
      "text/plain": [
       "[['ID', 'First Name', 'Last Name', 'Department', 'Phone', 'Address', 'Salary'],\n",
       " ['1', 'Luke', 'Phillip', 'Sales', '121921900', '1st Address, Miami', '52000'],\n",
       " ['2', 'Jack', 'Darren', 'IT', '12918210', '2nd Address, Miami', '52200'],\n",
       " ['3', 'Ken', 'Wood', 'IT', '20192101', '3rd Address, Miami', '58000'],\n",
       " ['4',\n",
       "  'John',\n",
       "  'Wilson',\n",
       "  'Marketing',\n",
       "  '31312311',\n",
       "  '4th Address, Miami',\n",
       "  '58700'],\n",
       " ['5',\n",
       "  'Emily',\n",
       "  'Larson',\n",
       "  'Marketing',\n",
       "  '43423434',\n",
       "  '5th Address, Miami',\n",
       "  '60000'],\n",
       " ['6',\n",
       "  'Anna',\n",
       "  'Sullivan',\n",
       "  'Sales',\n",
       "  '323232291',\n",
       "  '6th Address, Miami',\n",
       "  '54000'],\n",
       " ['7',\n",
       "  'Richard',\n",
       "  'Smith',\n",
       "  'Logistics',\n",
       "  '1277177910',\n",
       "  '7th Address, Miami',\n",
       "  '56000'],\n",
       " ['8',\n",
       "  'Ronnie',\n",
       "  'Moore',\n",
       "  'Sales',\n",
       "  '3691919186',\n",
       "  '8th Address, Miami',\n",
       "  '49000'],\n",
       " ['9', 'Benjamin', 'Drake', 'IT', '215557299', '9th Address, Miami', '53000'],\n",
       " ['10',\n",
       "  'Wayne',\n",
       "  'Barker',\n",
       "  'Logistics',\n",
       "  '3266617791',\n",
       "  '10th Address, Miami',\n",
       "  '59500']]"
      ]
     },
     "execution_count": 8,
     "metadata": {},
     "output_type": "execute_result"
    }
   ],
   "source": [
    "records"
   ]
  },
  {
   "cell_type": "markdown",
   "metadata": {},
   "source": [
    "1. rstrip 會刪除在字串最後的東西，也就是換行。\n",
    "2. 將所有的字串根據 ; 進行分割。"
   ]
  },
  {
   "cell_type": "code",
   "execution_count": 9,
   "metadata": {},
   "outputs": [],
   "source": [
    "workbook = Workbook()"
   ]
  },
  {
   "cell_type": "code",
   "execution_count": 10,
   "metadata": {},
   "outputs": [],
   "source": [
    "File_path = '/Users/How.Short/Desktop/MyCompanyStaff.xlsx'"
   ]
  },
  {
   "cell_type": "code",
   "execution_count": 11,
   "metadata": {},
   "outputs": [],
   "source": [
    "workbook.save(File_path)"
   ]
  },
  {
   "cell_type": "markdown",
   "metadata": {},
   "source": [
    "可以建立一個新的excel檔，並將這個excel檔存檔。"
   ]
  },
  {
   "cell_type": "code",
   "execution_count": 12,
   "metadata": {},
   "outputs": [
    {
     "data": {
      "text/plain": [
       "['Sheet']"
      ]
     },
     "execution_count": 12,
     "metadata": {},
     "output_type": "execute_result"
    }
   ],
   "source": [
    "workbook.sheetnames"
   ]
  },
  {
   "cell_type": "code",
   "execution_count": 13,
   "metadata": {},
   "outputs": [],
   "source": [
    "sheet = workbook['Sheet']"
   ]
  },
  {
   "cell_type": "code",
   "execution_count": 14,
   "metadata": {},
   "outputs": [],
   "source": [
    "sheet.title = 'Employees'"
   ]
  },
  {
   "cell_type": "markdown",
   "metadata": {},
   "source": [
    "可以將原本excel的資料表更改名字。"
   ]
  },
  {
   "cell_type": "code",
   "execution_count": 15,
   "metadata": {},
   "outputs": [],
   "source": [
    "for row in records:\n",
    "    sheet.append(row)"
   ]
  },
  {
   "cell_type": "markdown",
   "metadata": {},
   "source": [
    "將原本所有的行都移到excel裡面。"
   ]
  },
  {
   "cell_type": "code",
   "execution_count": 16,
   "metadata": {},
   "outputs": [],
   "source": [
    "table = Table(displayName = 'Table',ref = 'A1:G11')"
   ]
  },
  {
   "cell_type": "markdown",
   "metadata": {},
   "source": [
    "要建立表格，ref 代表這個資料表裡面所有的東西，因為要包含所有的資料，所以要去看這些資料放到excel裡面，會佔據多大的位置。"
   ]
  },
  {
   "cell_type": "code",
   "execution_count": 17,
   "metadata": {},
   "outputs": [],
   "source": [
    "import openpyxl"
   ]
  },
  {
   "cell_type": "code",
   "execution_count": 18,
   "metadata": {},
   "outputs": [
    {
     "data": {
      "text/plain": [
       "('TableStyleMedium1',\n",
       " 'TableStyleMedium2',\n",
       " 'TableStyleMedium3',\n",
       " 'TableStyleMedium4',\n",
       " 'TableStyleMedium5',\n",
       " 'TableStyleMedium6',\n",
       " 'TableStyleMedium7',\n",
       " 'TableStyleMedium8',\n",
       " 'TableStyleMedium9',\n",
       " 'TableStyleMedium10',\n",
       " 'TableStyleMedium11',\n",
       " 'TableStyleMedium12',\n",
       " 'TableStyleMedium13',\n",
       " 'TableStyleMedium14',\n",
       " 'TableStyleMedium15',\n",
       " 'TableStyleMedium16',\n",
       " 'TableStyleMedium17',\n",
       " 'TableStyleMedium18',\n",
       " 'TableStyleMedium19',\n",
       " 'TableStyleMedium20',\n",
       " 'TableStyleMedium21',\n",
       " 'TableStyleMedium22',\n",
       " 'TableStyleMedium23',\n",
       " 'TableStyleMedium24',\n",
       " 'TableStyleMedium25',\n",
       " 'TableStyleMedium26',\n",
       " 'TableStyleMedium27',\n",
       " 'TableStyleMedium28',\n",
       " 'TableStyleLight1',\n",
       " 'TableStyleLight2',\n",
       " 'TableStyleLight3',\n",
       " 'TableStyleLight4',\n",
       " 'TableStyleLight5',\n",
       " 'TableStyleLight6',\n",
       " 'TableStyleLight7',\n",
       " 'TableStyleLight8',\n",
       " 'TableStyleLight9',\n",
       " 'TableStyleLight10',\n",
       " 'TableStyleLight11',\n",
       " 'TableStyleLight12',\n",
       " 'TableStyleLight13',\n",
       " 'TableStyleLight14',\n",
       " 'TableStyleLight15',\n",
       " 'TableStyleLight16',\n",
       " 'TableStyleLight17',\n",
       " 'TableStyleLight18',\n",
       " 'TableStyleLight19',\n",
       " 'TableStyleLight20',\n",
       " 'TableStyleLight21',\n",
       " 'TableStyleDark1',\n",
       " 'TableStyleDark2',\n",
       " 'TableStyleDark3',\n",
       " 'TableStyleDark4',\n",
       " 'TableStyleDark5',\n",
       " 'TableStyleDark6',\n",
       " 'TableStyleDark7',\n",
       " 'TableStyleDark8',\n",
       " 'TableStyleDark9',\n",
       " 'TableStyleDark10',\n",
       " 'TableStyleDark11')"
      ]
     },
     "execution_count": 18,
     "metadata": {},
     "output_type": "execute_result"
    }
   ],
   "source": [
    "openpyxl.worksheet.table.TABLESTYLES"
   ]
  },
  {
   "cell_type": "markdown",
   "metadata": {},
   "source": [
    "可以看到在 openpyxl 裡面，預設的表格格式。"
   ]
  },
  {
   "cell_type": "code",
   "execution_count": 19,
   "metadata": {},
   "outputs": [],
   "source": [
    "style = TableStyleInfo(name = \"TableStyleMedium9\",showRowStripes = True,showColumnStripes = True)"
   ]
  },
  {
   "cell_type": "code",
   "execution_count": 20,
   "metadata": {},
   "outputs": [],
   "source": [
    "table.tableStyleInfo = style"
   ]
  },
  {
   "cell_type": "markdown",
   "metadata": {},
   "source": [
    "確認這個表格的格式。"
   ]
  },
  {
   "cell_type": "code",
   "execution_count": 21,
   "metadata": {},
   "outputs": [],
   "source": [
    "sheet.add_table(table)"
   ]
  },
  {
   "cell_type": "markdown",
   "metadata": {},
   "source": [
    "將這個 table 加進這個資料表裡面，在()裡的參數是因為 In[16] 變數名稱是 table，所以會用這個名字。"
   ]
  },
  {
   "cell_type": "code",
   "execution_count": 22,
   "metadata": {},
   "outputs": [],
   "source": [
    "font = Font(color = colors.RED,bold = True,italic = True)"
   ]
  },
  {
   "cell_type": "code",
   "execution_count": 23,
   "metadata": {},
   "outputs": [],
   "source": [
    "for cell_no in range(2,12):\n",
    "    if int(sheet['G%s' % (cell_no)].value) > 55000:\n",
    "        sheet['G%s' % (cell_no)].font = font"
   ]
  },
  {
   "cell_type": "markdown",
   "metadata": {},
   "source": [
    "確認如果 salary 有大於 55000。"
   ]
  },
  {
   "cell_type": "code",
   "execution_count": 24,
   "metadata": {},
   "outputs": [],
   "source": [
    "workbook.save(File_path)"
   ]
  },
  {
   "cell_type": "code",
   "execution_count": 25,
   "metadata": {},
   "outputs": [],
   "source": [
    "text_file.close()"
   ]
  },
  {
   "cell_type": "code",
   "execution_count": null,
   "metadata": {},
   "outputs": [],
   "source": []
  }
 ],
 "metadata": {
  "kernelspec": {
   "display_name": "Python 3",
   "language": "python",
   "name": "python3"
  },
  "language_info": {
   "codemirror_mode": {
    "name": "ipython",
    "version": 3
   },
   "file_extension": ".py",
   "mimetype": "text/x-python",
   "name": "python",
   "nbconvert_exporter": "python",
   "pygments_lexer": "ipython3",
   "version": "3.7.3"
  }
 },
 "nbformat": 4,
 "nbformat_minor": 2
}
