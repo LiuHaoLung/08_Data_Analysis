{
 "cells": [
  {
   "cell_type": "code",
   "execution_count": 1,
   "metadata": {},
   "outputs": [],
   "source": [
    "import os.path"
   ]
  },
  {
   "cell_type": "code",
   "execution_count": 2,
   "metadata": {},
   "outputs": [],
   "source": [
    "import sys"
   ]
  },
  {
   "cell_type": "code",
   "execution_count": 3,
   "metadata": {},
   "outputs": [],
   "source": [
    "# 檢查IP位址和內容的有效性\n",
    "def ip_file_valid():\n",
    "    \n",
    "    # 讓使用者自行輸入相關檔案路徑\n",
    "    ip_file = input('\\n# Enter IP file path and name: ')\n",
    "    \n",
    "    # 確定檔案是否存在\n",
    "    if os.path.isfile(ip_file) == True:\n",
    "        print('\\n* IP file is valid\\n')\n",
    "    else:\n",
    "        print(f'\\n* File {ip_file} does not exist. Please check and try again\\n')\n",
    "        # 如果不存在的話，除了叫使用者重新輸入外，也會直接離開這個執行\n",
    "        sys.exit()\n",
    "    \n",
    "    # 讀取使用者所輸入的檔案\n",
    "    selected_iP_file = open(ip_file,'r')\n",
    "    \n",
    "    # 從頭開始讀取這個檔案，並且確保讀取時不會跳掉任何一行\n",
    "    selected_iP_file.seek(0)\n",
    "    \n",
    "    # 將一行一行讀取這個檔案（Ip address），並丟在ip_list裡面\n",
    "    ip_list = selected_iP_file.readlines()\n",
    "    \n",
    "    # 將原本讀取的檔案關閉\n",
    "    selected_iP_file.close()\n",
    "    \n",
    "    # 回傳所讀取到的所有資料\n",
    "    return ip_list"
   ]
  },
  {
   "cell_type": "code",
   "execution_count": 4,
   "metadata": {},
   "outputs": [
    {
     "name": "stdout",
     "output_type": "stream",
     "text": [
      "\n",
      "# Enter IP file path and name: IP.txt\n",
      "\n",
      "* IP file is valid\n",
      "\n"
     ]
    },
    {
     "data": {
      "text/plain": [
       "['10.10.10.2\\n', '10.10.10.3\\n', '10.10.10.4']"
      ]
     },
     "execution_count": 4,
     "metadata": {},
     "output_type": "execute_result"
    }
   ],
   "source": [
    "ip_file_valid()"
   ]
  },
  {
   "cell_type": "code",
   "execution_count": null,
   "metadata": {},
   "outputs": [],
   "source": []
  }
 ],
 "metadata": {
  "kernelspec": {
   "display_name": "Python 3",
   "language": "python",
   "name": "python3"
  },
  "language_info": {
   "codemirror_mode": {
    "name": "ipython",
    "version": 3
   },
   "file_extension": ".py",
   "mimetype": "text/x-python",
   "name": "python",
   "nbconvert_exporter": "python",
   "pygments_lexer": "ipython3",
   "version": "3.7.3"
  }
 },
 "nbformat": 4,
 "nbformat_minor": 2
}
