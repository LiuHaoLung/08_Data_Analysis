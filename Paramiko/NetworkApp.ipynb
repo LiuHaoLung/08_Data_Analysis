{
 "cells": [
  {
   "cell_type": "code",
   "execution_count": 1,
   "metadata": {},
   "outputs": [
    {
     "name": "stdout",
     "output_type": "stream",
     "text": [
      "\n",
      "# Enter IP file path and name: /Users/How.Short/Desktop/Python內容/Python-class/classforNetwork/IP.txt\n",
      "\n",
      "* IP file is valid\n",
      "\n",
      "\n",
      "# Enter user file path and name: /Users/How.Short/Desktop/Python內容/Python-class/classforNetwork/user.txt\n",
      "\n",
      "* Username/password file is valid.\n",
      "\n",
      "\n",
      "# Enter commands file path and name: /Users/How.Short/Desktop/Python內容/Python-class/classforNetwork/cmd.txt\n",
      "\n",
      "* Command file is valid.Sending command(s) to device(s)...\n",
      "\n"
     ]
    }
   ],
   "source": [
    "import sys\n",
    " \n",
    "from ip_file_valid import ip_file_valid\n",
    "from ip_addr_valid import ip_addr_valid\n",
    "from ip_reach import ip_reach\n",
    "from ssh_connection import ssh_connection\n",
    "from create_threads import create_threads"
   ]
  },
  {
   "cell_type": "code",
   "execution_count": null,
   "metadata": {},
   "outputs": [],
   "source": [
    "# 將ip.txt裡的IP address存為list\n",
    "ip_list = ip_file_valid()\n",
    " \n",
    "# 驗證在這個list裡面的IP是否有效\n",
    "try:\n",
    "    ip_addr_valid(ip_list)\n",
    "    \n",
    "except KeyboardInterrupt:\n",
    "    print(\"\\n\\n* Program aborted by user. Exiting...\\n\")\n",
    "    sys.exit()\n",
    "\n",
    "# 驗證在這個list裡面的IP是否都可以達到\n",
    "try:\n",
    "    ip_reach(ip_list)\n",
    "    \n",
    "except KeyboardInterrupt:\n",
    "    print(\"\\n\\n* Program aborted by user. Exiting...\\n\")\n",
    "    sys.exit()\n",
    "\n",
    "# 呼叫threading\n",
    "create_threads(ip_list, ssh_connection)\n",
    " \n",
    "#End of program"
   ]
  }
 ],
 "metadata": {
  "kernelspec": {
   "display_name": "Python 3",
   "language": "python",
   "name": "python3"
  },
  "language_info": {
   "codemirror_mode": {
    "name": "ipython",
    "version": 3
   },
   "file_extension": ".py",
   "mimetype": "text/x-python",
   "name": "python",
   "nbconvert_exporter": "python",
   "pygments_lexer": "ipython3",
   "version": "3.7.3"
  }
 },
 "nbformat": 4,
 "nbformat_minor": 2
}
