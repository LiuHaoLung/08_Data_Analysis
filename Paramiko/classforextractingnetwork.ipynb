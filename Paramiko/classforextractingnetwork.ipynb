{
 "cells": [
  {
   "cell_type": "markdown",
   "metadata": {},
   "source": [
    "從執行的結果裡，找到IP。"
   ]
  },
  {
   "cell_type": "code",
   "execution_count": 1,
   "metadata": {},
   "outputs": [],
   "source": [
    "import re"
   ]
  },
  {
   "cell_type": "code",
   "execution_count": 2,
   "metadata": {},
   "outputs": [],
   "source": [
    "a = 'Last login: Thu Sep 26 14:19:42 2019 from 10.10.10.1\\r\\r\\nenable\\r\\nterminal length 0\\r\\nenable\\r\\nterminal length 0\\r\\nArista3>enable\\r\\nArista3#terminal length 0\\r\\nPagination disabled.\\r\\nArista3#\\r\\nconfigure terminal\\r\\nArista3#configure terminal\\r\\nArista3(config)#show interfaces loopback 0\\r\\nLoopback0 is up, line protocol is up (connected)\\r\\n  Hardware is Loopback\\r\\n  Internet address is 3.3.3.3/24\\r\\n  Broadcast address is 255.255.255.255\\r\\n  IP MTU 65535 bytes\\r\\n  Up 3 minutes, 46 seconds\\r\\nArista3(config)#\\r\\nArista3(config)#show ntp status\\r\\nNTP is disabled.\\r\\nArista3(config)#'"
   ]
  },
  {
   "cell_type": "code",
   "execution_count": 3,
   "metadata": {},
   "outputs": [
    {
     "data": {
      "text/plain": [
       "'Last login: Thu Sep 26 14:19:42 2019 from 10.10.10.1\\r\\r\\nenable\\r\\nterminal length 0\\r\\nenable\\r\\nterminal length 0\\r\\nArista3>enable\\r\\nArista3#terminal length 0\\r\\nPagination disabled.\\r\\nArista3#\\r\\nconfigure terminal\\r\\nArista3#configure terminal\\r\\nArista3(config)#show interfaces loopback 0\\r\\nLoopback0 is up, line protocol is up (connected)\\r\\n  Hardware is Loopback\\r\\n  Internet address is 3.3.3.3/24\\r\\n  Broadcast address is 255.255.255.255\\r\\n  IP MTU 65535 bytes\\r\\n  Up 3 minutes, 46 seconds\\r\\nArista3(config)#\\r\\nArista3(config)#show ntp status\\r\\nNTP is disabled.\\r\\nArista3(config)#'"
      ]
     },
     "execution_count": 3,
     "metadata": {},
     "output_type": "execute_result"
    }
   ],
   "source": [
    "a"
   ]
  },
  {
   "cell_type": "markdown",
   "metadata": {},
   "source": [
    "先將結果變成字串，指定給一個變數。"
   ]
  },
  {
   "cell_type": "code",
   "execution_count": 4,
   "metadata": {},
   "outputs": [
    {
     "data": {
      "text/plain": [
       "['Last login: Thu Sep 26 14:19:42 2019 from 10.10.10.1\\r',\n",
       " 'enable',\n",
       " 'terminal length 0',\n",
       " 'enable',\n",
       " 'terminal length 0',\n",
       " 'Arista3>enable',\n",
       " 'Arista3#terminal length 0',\n",
       " 'Pagination disabled.',\n",
       " 'Arista3#',\n",
       " 'configure terminal',\n",
       " 'Arista3#configure terminal',\n",
       " 'Arista3(config)#show interfaces loopback 0',\n",
       " 'Loopback0 is up, line protocol is up (connected)',\n",
       " '  Hardware is Loopback',\n",
       " '  Internet address is 3.3.3.3/24',\n",
       " '  Broadcast address is 255.255.255.255',\n",
       " '  IP MTU 65535 bytes',\n",
       " '  Up 3 minutes, 46 seconds',\n",
       " 'Arista3(config)#',\n",
       " 'Arista3(config)#show ntp status',\n",
       " 'NTP is disabled.',\n",
       " 'Arista3(config)#']"
      ]
     },
     "execution_count": 4,
     "metadata": {},
     "output_type": "execute_result"
    }
   ],
   "source": [
    "a.split('\\r\\n')"
   ]
  },
  {
   "cell_type": "markdown",
   "metadata": {},
   "source": [
    "利用回傳回來的<code>\\r\\n</code>進行分割。"
   ]
  },
  {
   "cell_type": "code",
   "execution_count": 5,
   "metadata": {},
   "outputs": [],
   "source": [
    "b = a.split('\\r\\n')"
   ]
  },
  {
   "cell_type": "markdown",
   "metadata": {},
   "source": [
    "將分割的結果指定給新的變數b。"
   ]
  },
  {
   "cell_type": "code",
   "execution_count": 6,
   "metadata": {},
   "outputs": [
    {
     "data": {
      "text/plain": [
       "14"
      ]
     },
     "execution_count": 6,
     "metadata": {},
     "output_type": "execute_result"
    }
   ],
   "source": [
    "b.index('  Internet address is 3.3.3.3/24')"
   ]
  },
  {
   "cell_type": "markdown",
   "metadata": {},
   "source": [
    "利用 index() 的方法，來找到 IP 的 index 為何。"
   ]
  },
  {
   "cell_type": "code",
   "execution_count": 7,
   "metadata": {},
   "outputs": [],
   "source": [
    "c = b[14]"
   ]
  },
  {
   "cell_type": "code",
   "execution_count": 8,
   "metadata": {},
   "outputs": [
    {
     "data": {
      "text/plain": [
       "'  Internet address is 3.3.3.3/24'"
      ]
     },
     "execution_count": 8,
     "metadata": {},
     "output_type": "execute_result"
    }
   ],
   "source": [
    "c"
   ]
  },
  {
   "cell_type": "markdown",
   "metadata": {},
   "source": [
    "將找到的 index 指定給新的變數c。"
   ]
  },
  {
   "cell_type": "code",
   "execution_count": 9,
   "metadata": {},
   "outputs": [],
   "source": [
    "ip = re.findall(r\"[0-9]{1,3}\\.[0-9]{1,3}\\.[0-9]{1,3}\\.[0-9]{1,3}\",c)"
   ]
  },
  {
   "cell_type": "code",
   "execution_count": 10,
   "metadata": {},
   "outputs": [
    {
     "data": {
      "text/plain": [
       "['3.3.3.3']"
      ]
     },
     "execution_count": 10,
     "metadata": {},
     "output_type": "execute_result"
    }
   ],
   "source": [
    "ip"
   ]
  },
  {
   "cell_type": "markdown",
   "metadata": {},
   "source": [
    "用 re 的 module進行搜尋。\n",
    "1. <code>[0-9]</code>代表的是數字 0-9 都可以。\n",
    "2. <code>{1,3}</code>代表的是這個數字可能是一個兩個三個。"
   ]
  },
  {
   "cell_type": "code",
   "execution_count": 11,
   "metadata": {},
   "outputs": [
    {
     "data": {
      "text/plain": [
       "'3.3.3.3'"
      ]
     },
     "execution_count": 11,
     "metadata": {},
     "output_type": "execute_result"
    }
   ],
   "source": [
    "ip[0]"
   ]
  },
  {
   "cell_type": "markdown",
   "metadata": {},
   "source": [
    "回傳 IP 字串。"
   ]
  },
  {
   "cell_type": "code",
   "execution_count": 12,
   "metadata": {},
   "outputs": [],
   "source": [
    "ip = re.findall(r\"[0-9]{1,3}\\.[0-9]{1,3}\\.[0-9]{1,3}\\.[0-9]{1,3}\",a.split('\\r\\n')[14])"
   ]
  },
  {
   "cell_type": "markdown",
   "metadata": {},
   "source": [
    "可以直接在 re.findall() 第二個參數，下 <code>a.split('\\r\\n)[14]</code>，也可以順利找到 IP。"
   ]
  },
  {
   "cell_type": "code",
   "execution_count": 13,
   "metadata": {},
   "outputs": [
    {
     "data": {
      "text/plain": [
       "['3.3.3.3']"
      ]
     },
     "execution_count": 13,
     "metadata": {},
     "output_type": "execute_result"
    }
   ],
   "source": [
    "ip"
   ]
  },
  {
   "cell_type": "code",
   "execution_count": 14,
   "metadata": {},
   "outputs": [
    {
     "data": {
      "text/plain": [
       "'3.3.3.3'"
      ]
     },
     "execution_count": 14,
     "metadata": {},
     "output_type": "execute_result"
    }
   ],
   "source": [
    "ip[0]"
   ]
  },
  {
   "cell_type": "code",
   "execution_count": 15,
   "metadata": {},
   "outputs": [],
   "source": [
    "ip = re.findall(r\"[0-9]{1,3}\\.[0-9]{1,3}\\.[0-9]{1,3}\\.[0-9]{1,3}\",str(a.split('\\r\\n')))"
   ]
  },
  {
   "cell_type": "code",
   "execution_count": 16,
   "metadata": {},
   "outputs": [
    {
     "data": {
      "text/plain": [
       "['10.10.10.1', '3.3.3.3', '255.255.255.255']"
      ]
     },
     "execution_count": 16,
     "metadata": {},
     "output_type": "execute_result"
    }
   ],
   "source": [
    "ip"
   ]
  },
  {
   "cell_type": "markdown",
   "metadata": {},
   "source": [
    "找到所有的 IP，且要在 a 前面加上 str，否則會是資料型態（str和byte）之間的錯誤。"
   ]
  },
  {
   "cell_type": "code",
   "execution_count": null,
   "metadata": {},
   "outputs": [],
   "source": []
  }
 ],
 "metadata": {
  "kernelspec": {
   "display_name": "Python 3",
   "language": "python",
   "name": "python3"
  },
  "language_info": {
   "codemirror_mode": {
    "name": "ipython",
    "version": 3
   },
   "file_extension": ".py",
   "mimetype": "text/x-python",
   "name": "python",
   "nbconvert_exporter": "python",
   "pygments_lexer": "ipython3",
   "version": "3.7.3"
  }
 },
 "nbformat": 4,
 "nbformat_minor": 2
}
