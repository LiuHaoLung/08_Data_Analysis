{
 "cells": [
  {
   "cell_type": "code",
   "execution_count": 1,
   "metadata": {},
   "outputs": [],
   "source": [
    "import paramiko"
   ]
  },
  {
   "cell_type": "code",
   "execution_count": 2,
   "metadata": {},
   "outputs": [],
   "source": [
    "import os.path"
   ]
  },
  {
   "cell_type": "code",
   "execution_count": 3,
   "metadata": {},
   "outputs": [],
   "source": [
    "import time"
   ]
  },
  {
   "cell_type": "code",
   "execution_count": 4,
   "metadata": {},
   "outputs": [],
   "source": [
    "import sys"
   ]
  },
  {
   "cell_type": "code",
   "execution_count": 5,
   "metadata": {},
   "outputs": [],
   "source": [
    "import re"
   ]
  },
  {
   "cell_type": "code",
   "execution_count": null,
   "metadata": {},
   "outputs": [],
   "source": [
    "# 打開SSH\n",
    "def ssh_connection(ip):\n",
    "    \n",
    "    global user_file\n",
    "    global cmd_file\n",
    "    \n",
    "    # 建立SSH連結\n",
    "    try:\n",
    "        \n",
    "        # 定義SSH的參數\n",
    "        selected_user_file = open(user_file, 'r')\n",
    "        \n",
    "        # user檔案從頭開始讀取\n",
    "        selected_user_file.seek(0)\n",
    "        \n",
    "        # 讀取使用者帳號(username)\n",
    "        username = selected_user_file.readlines()[0].split(',')[0].rstrip(\"\\n\")\n",
    "        \n",
    "        # user檔案從頭開始讀取\n",
    "        selected_user_file.seek(0)\n",
    "        \n",
    "        # 讀取使用者密碼(password)\n",
    "        password = selected_user_file.readlines()[0].split(',')[1].rstrip(\"\\n\")\n",
    "        \n",
    "        # 登入裝置\n",
    "        session = paramiko.SSHClient()\n",
    "        \n",
    "        # 測試目的，就算用不知名的host key，也會被接受\n",
    "        session.set_missing_host_key_policy(paramiko.AutoAddPolicy())\n",
    "        \n",
    "        # 利用讀取到的帳號及密碼進行登入         \n",
    "        session.connect(ip.rstrip(\"\\n\"), username = username, password = password)\n",
    "        \n",
    "        # 在路由器上啟動互動式的對話\n",
    "        connection = session.invoke_shell()\n",
    "        \n",
    "        # 進入enable模式\n",
    "        connection.send(\"enable\\n\")\n",
    "        connection.send(\"terminal length 0\\n\")\n",
    "        time.sleep(1)\n",
    "        \n",
    "        # 進入configure terminal模式\n",
    "        connection.send(\"\\n\")\n",
    "        connection.send(\"configure terminal\\n\")\n",
    "        time.sleep(1)\n",
    "        \n",
    "        # 打開要讀取的cmd檔案\n",
    "        selected_cmd_file = open(cmd_file, 'r')\n",
    "            \n",
    "        # cmd檔案從頭開始讀取\n",
    "        selected_cmd_file.seek(0)\n",
    "        \n",
    "        # 將cmd內的內容寫入\n",
    "        for each_line in selected_cmd_file.readlines():\n",
    "            connection.send(each_line + '\\n')\n",
    "            time.sleep(2)\n",
    "        \n",
    "        # 關閉user檔案\n",
    "        selected_user_file.close()\n",
    "        \n",
    "        # 關閉cmd檔案\n",
    "        selected_cmd_file.close()\n",
    "        \n",
    "        # 確認輸入指令是否有錯誤\n",
    "        router_output = connection.recv(65535)\n",
    "        \n",
    "        if re.search(b\"% Invalid input\", router_output):\n",
    "            print(\"* There was at least one IOS syntax error on device {} :(\".format(ip))\n",
    "            \n",
    "        else:\n",
    "            print(\"\\nDONE for device {} :)\\n\".format(ip))\n",
    "            \n",
    "        # 測試是否可以順利輸出\n",
    "        print(str(router_output) + \"\\n\")\n",
    "        \n",
    "        # 結束此連結\n",
    "        session.close()\n",
    "     \n",
    "    except paramiko.AuthenticationException:\n",
    "        print(\"* Invalid username or password :( \\n* Please check the username/password file or the device configuration.\")\n",
    "        print(\"* Closing program... Bye!\")"
   ]
  }
 ],
 "metadata": {
  "kernelspec": {
   "display_name": "Python 3",
   "language": "python",
   "name": "python3"
  },
  "language_info": {
   "codemirror_mode": {
    "name": "ipython",
    "version": 3
   },
   "file_extension": ".py",
   "mimetype": "text/x-python",
   "name": "python",
   "nbconvert_exporter": "python",
   "pygments_lexer": "ipython3",
   "version": "3.7.3"
  }
 },
 "nbformat": 4,
 "nbformat_minor": 2
}
